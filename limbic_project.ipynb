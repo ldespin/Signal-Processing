{
 "cells": [
  {
   "cell_type": "markdown",
   "id": "7bafddb7",
   "metadata": {},
   "source": [
    "### Imports"
   ]
  },
  {
   "cell_type": "code",
   "execution_count": 153,
   "id": "eb0d837c",
   "metadata": {},
   "outputs": [],
   "source": [
    "import numpy as np\n",
    "import re\n",
    "import matplotlib.pyplot as plt\n",
    "%matplotlib inline\n",
    "plt.rcParams[\"figure.figsize\"] = (20,8)\n",
    "import nibabel as nib\n",
    "from nilearn.input_data import NiftiSpheresMasker\n",
    "from mpl_toolkits import mplot3d\n",
    "import plotly.express as px\n",
    "import pandas as pd\n",
    "import os\n",
    "import shutil"
   ]
  },
  {
   "cell_type": "markdown",
   "id": "d1672dad",
   "metadata": {},
   "source": [
    "### Select T1w files (skip)"
   ]
  },
  {
   "cell_type": "code",
   "execution_count": 8,
   "id": "a37700f9",
   "metadata": {},
   "outputs": [],
   "source": [
    "sub_dirs = os.listdir(\"data\")\n",
    "for sub_dir in sub_dirs:\n",
    "    if not sub_dir.startswith('.'):\n",
    "        sessions = os.listdir(f\"data/{sub_dir}\")\n",
    "        for ses in sessions:\n",
    "            if not ses.startswith('.'):\n",
    "                files = os.listdir(f\"data/{sub_dir}/{ses}/anat\")\n",
    "                for file in files:\n",
    "                    if \"T1w.nii\" in file:\n",
    "                        shutil.copyfile(f\"data/{sub_dir}/{ses}/anat/{file}\", f\"data_T1w/{file}\")"
   ]
  },
  {
   "cell_type": "code",
   "execution_count": 2,
   "id": "6c48b4f9",
   "metadata": {},
   "outputs": [
    {
     "name": "stdout",
     "output_type": "stream",
     "text": [
      "Dataset shape:  (160, 256, 256)\n",
      "Voxel size (mm):  (0.9999948, 1.0, 1.0)\n",
      "[[ 9.96108055e-01 -8.09590816e-02  3.46972011e-02 -7.10480652e+01]\n",
      " [ 8.09095949e-02  9.96717393e-01  2.81830528e-03 -9.08146667e+01]\n",
      " [-3.48112918e-02 -1.23687061e-10  9.99393880e-01 -3.85276031e+01]\n",
      " [ 0.00000000e+00  0.00000000e+00  0.00000000e+00  1.00000000e+00]]\n"
     ]
    }
   ],
   "source": [
    "fmri_raw = nib.load('data/sub-561230PV/ses-1/anat/sub-561230PV_ses-1_T1w.nii.gz')\n",
    "fmri_header = fmri_raw.header\n",
    "print('Dataset shape: ', fmri_header.get_data_shape())\n",
    "print('Voxel size (mm): ', fmri_header.get_zooms())\n",
    "\n",
    "voxel_MRI_mat = fmri_raw.affine\n",
    "print(voxel_MRI_mat)"
   ]
  },
  {
   "cell_type": "markdown",
   "id": "a6a797c0",
   "metadata": {},
   "source": [
    "### Read summary files"
   ]
  },
  {
   "cell_type": "code",
   "execution_count": 10,
   "id": "bf048e91",
   "metadata": {},
   "outputs": [
    {
     "data": {
      "text/html": [
       "<div>\n",
       "<style scoped>\n",
       "    .dataframe tbody tr th:only-of-type {\n",
       "        vertical-align: middle;\n",
       "    }\n",
       "\n",
       "    .dataframe tbody tr th {\n",
       "        vertical-align: top;\n",
       "    }\n",
       "\n",
       "    .dataframe thead th {\n",
       "        text-align: right;\n",
       "    }\n",
       "</style>\n",
       "<table border=\"1\" class=\"dataframe\">\n",
       "  <thead>\n",
       "    <tr style=\"text-align: right;\">\n",
       "      <th></th>\n",
       "      <th>SUBJID</th>\n",
       "      <th>D_INCLUSION</th>\n",
       "      <th>ID_MRI</th>\n",
       "      <th>GENRE</th>\n",
       "      <th>SEXE</th>\n",
       "      <th>DDN</th>\n",
       "      <th>AGE</th>\n",
       "      <th>NB_AN_SCOL</th>\n",
       "      <th>INFARCT_VOL T1space GK cm3</th>\n",
       "      <th>INFARCT_VOL T1space GK %</th>\n",
       "      <th>IADL_TOTAL_1_2_M6</th>\n",
       "      <th>MOCA_SCORE_J7</th>\n",
       "      <th>MOCA_SCORE_M6</th>\n",
       "      <th>MOCA_SCORE_M12</th>\n",
       "      <th>MOCA_SCORE_M36</th>\n",
       "      <th>MOCA_SCORE_M60</th>\n",
       "    </tr>\n",
       "  </thead>\n",
       "  <tbody>\n",
       "    <tr>\n",
       "      <th>0</th>\n",
       "      <td>L001</td>\n",
       "      <td>26/01/2010</td>\n",
       "      <td>510702MFB</td>\n",
       "      <td>F</td>\n",
       "      <td>0</td>\n",
       "      <td>02/07/1951</td>\n",
       "      <td>58</td>\n",
       "      <td>8</td>\n",
       "      <td>0.930262</td>\n",
       "      <td>0.074427</td>\n",
       "      <td>14.0</td>\n",
       "      <td>20.0</td>\n",
       "      <td>21.0</td>\n",
       "      <td>19.0</td>\n",
       "      <td>21.0</td>\n",
       "      <td>21.0</td>\n",
       "    </tr>\n",
       "    <tr>\n",
       "      <th>1</th>\n",
       "      <td>L002</td>\n",
       "      <td>01/02/2010</td>\n",
       "      <td>540724JLC</td>\n",
       "      <td>M</td>\n",
       "      <td>1</td>\n",
       "      <td>24/07/1954</td>\n",
       "      <td>55</td>\n",
       "      <td>14</td>\n",
       "      <td>NaN</td>\n",
       "      <td>NaN</td>\n",
       "      <td>10.0</td>\n",
       "      <td>15.0</td>\n",
       "      <td>27.0</td>\n",
       "      <td>NaN</td>\n",
       "      <td>NaN</td>\n",
       "      <td>NaN</td>\n",
       "    </tr>\n",
       "    <tr>\n",
       "      <th>2</th>\n",
       "      <td>L003</td>\n",
       "      <td>04/02/2010</td>\n",
       "      <td>571216AT</td>\n",
       "      <td>M</td>\n",
       "      <td>1</td>\n",
       "      <td>16/12/1957</td>\n",
       "      <td>52</td>\n",
       "      <td>9</td>\n",
       "      <td>6.370541</td>\n",
       "      <td>0.481525</td>\n",
       "      <td>12.0</td>\n",
       "      <td>25.0</td>\n",
       "      <td>25.0</td>\n",
       "      <td>24.0</td>\n",
       "      <td>26.0</td>\n",
       "      <td>26.0</td>\n",
       "    </tr>\n",
       "    <tr>\n",
       "      <th>3</th>\n",
       "      <td>L004</td>\n",
       "      <td>12/02/2010</td>\n",
       "      <td>431031JPC</td>\n",
       "      <td>M</td>\n",
       "      <td>1</td>\n",
       "      <td>31/10/1943</td>\n",
       "      <td>66</td>\n",
       "      <td>8</td>\n",
       "      <td>2.587243</td>\n",
       "      <td>0.159323</td>\n",
       "      <td>13.0</td>\n",
       "      <td>21.0</td>\n",
       "      <td>NaN</td>\n",
       "      <td>21.0</td>\n",
       "      <td>NaN</td>\n",
       "      <td>NaN</td>\n",
       "    </tr>\n",
       "    <tr>\n",
       "      <th>4</th>\n",
       "      <td>L005</td>\n",
       "      <td>16/02/2010</td>\n",
       "      <td>260410AV</td>\n",
       "      <td>F</td>\n",
       "      <td>0</td>\n",
       "      <td>10/04/1926</td>\n",
       "      <td>83</td>\n",
       "      <td>10</td>\n",
       "      <td>12.028080</td>\n",
       "      <td>1.028757</td>\n",
       "      <td>14.0</td>\n",
       "      <td>15.0</td>\n",
       "      <td>23.0</td>\n",
       "      <td>NaN</td>\n",
       "      <td>24.0</td>\n",
       "      <td>NaN</td>\n",
       "    </tr>\n",
       "    <tr>\n",
       "      <th>...</th>\n",
       "      <td>...</td>\n",
       "      <td>...</td>\n",
       "      <td>...</td>\n",
       "      <td>...</td>\n",
       "      <td>...</td>\n",
       "      <td>...</td>\n",
       "      <td>...</td>\n",
       "      <td>...</td>\n",
       "      <td>...</td>\n",
       "      <td>...</td>\n",
       "      <td>...</td>\n",
       "      <td>...</td>\n",
       "      <td>...</td>\n",
       "      <td>...</td>\n",
       "      <td>...</td>\n",
       "      <td>...</td>\n",
       "    </tr>\n",
       "    <tr>\n",
       "      <th>197</th>\n",
       "      <td>L200</td>\n",
       "      <td>15/10/2015</td>\n",
       "      <td>370817FC</td>\n",
       "      <td>F</td>\n",
       "      <td>0</td>\n",
       "      <td>17/08/1937</td>\n",
       "      <td>78</td>\n",
       "      <td>10</td>\n",
       "      <td>1.206997</td>\n",
       "      <td>0.100800</td>\n",
       "      <td>NaN</td>\n",
       "      <td>27.0</td>\n",
       "      <td>NaN</td>\n",
       "      <td>NaN</td>\n",
       "      <td>NaN</td>\n",
       "      <td>NaN</td>\n",
       "    </tr>\n",
       "    <tr>\n",
       "      <th>198</th>\n",
       "      <td>L201</td>\n",
       "      <td>04/11/2015</td>\n",
       "      <td>480920EF</td>\n",
       "      <td>F</td>\n",
       "      <td>0</td>\n",
       "      <td>20/09/1948</td>\n",
       "      <td>67</td>\n",
       "      <td>11</td>\n",
       "      <td>0.171002</td>\n",
       "      <td>0.013145</td>\n",
       "      <td>14.0</td>\n",
       "      <td>29.0</td>\n",
       "      <td>30.0</td>\n",
       "      <td>3.0</td>\n",
       "      <td>30.0</td>\n",
       "      <td>NaN</td>\n",
       "    </tr>\n",
       "    <tr>\n",
       "      <th>199</th>\n",
       "      <td>L202</td>\n",
       "      <td>10/11/2015</td>\n",
       "      <td>510615BM</td>\n",
       "      <td>M</td>\n",
       "      <td>1</td>\n",
       "      <td>15/06/1951</td>\n",
       "      <td>64</td>\n",
       "      <td>12</td>\n",
       "      <td>6.015032</td>\n",
       "      <td>0.452634</td>\n",
       "      <td>NaN</td>\n",
       "      <td>28.0</td>\n",
       "      <td>NaN</td>\n",
       "      <td>NaN</td>\n",
       "      <td>NaN</td>\n",
       "      <td>NaN</td>\n",
       "    </tr>\n",
       "    <tr>\n",
       "      <th>200</th>\n",
       "      <td>L203</td>\n",
       "      <td>09/12/2015</td>\n",
       "      <td>661117OP</td>\n",
       "      <td>M</td>\n",
       "      <td>1</td>\n",
       "      <td>17/11/1966</td>\n",
       "      <td>49</td>\n",
       "      <td>11</td>\n",
       "      <td>0.557994</td>\n",
       "      <td>0.036035</td>\n",
       "      <td>14.0</td>\n",
       "      <td>30.0</td>\n",
       "      <td>28.0</td>\n",
       "      <td>26.0</td>\n",
       "      <td>28.0</td>\n",
       "      <td>NaN</td>\n",
       "    </tr>\n",
       "    <tr>\n",
       "      <th>201</th>\n",
       "      <td>L204</td>\n",
       "      <td>13/01/2016</td>\n",
       "      <td>490531LS</td>\n",
       "      <td>M</td>\n",
       "      <td>1</td>\n",
       "      <td>31/05/1949</td>\n",
       "      <td>66</td>\n",
       "      <td>5</td>\n",
       "      <td>8.700989</td>\n",
       "      <td>0.544433</td>\n",
       "      <td>11.0</td>\n",
       "      <td>23.0</td>\n",
       "      <td>NaN</td>\n",
       "      <td>NaN</td>\n",
       "      <td>NaN</td>\n",
       "      <td>NaN</td>\n",
       "    </tr>\n",
       "  </tbody>\n",
       "</table>\n",
       "<p>202 rows × 16 columns</p>\n",
       "</div>"
      ],
      "text/plain": [
       "    SUBJID D_INCLUSION     ID_MRI GENRE  SEXE         DDN  AGE  NB_AN_SCOL  \\\n",
       "0     L001  26/01/2010  510702MFB     F     0  02/07/1951   58           8   \n",
       "1     L002  01/02/2010  540724JLC     M     1  24/07/1954   55          14   \n",
       "2     L003  04/02/2010   571216AT     M     1  16/12/1957   52           9   \n",
       "3     L004  12/02/2010  431031JPC     M     1  31/10/1943   66           8   \n",
       "4     L005  16/02/2010   260410AV     F     0  10/04/1926   83          10   \n",
       "..     ...         ...        ...   ...   ...         ...  ...         ...   \n",
       "197   L200  15/10/2015   370817FC     F     0  17/08/1937   78          10   \n",
       "198   L201  04/11/2015   480920EF     F     0  20/09/1948   67          11   \n",
       "199   L202  10/11/2015   510615BM     M     1  15/06/1951   64          12   \n",
       "200   L203  09/12/2015   661117OP     M     1  17/11/1966   49          11   \n",
       "201   L204  13/01/2016   490531LS     M     1  31/05/1949   66           5   \n",
       "\n",
       "     INFARCT_VOL T1space GK cm3  INFARCT_VOL T1space GK %  IADL_TOTAL_1_2_M6  \\\n",
       "0                      0.930262                  0.074427               14.0   \n",
       "1                           NaN                       NaN               10.0   \n",
       "2                      6.370541                  0.481525               12.0   \n",
       "3                      2.587243                  0.159323               13.0   \n",
       "4                     12.028080                  1.028757               14.0   \n",
       "..                          ...                       ...                ...   \n",
       "197                    1.206997                  0.100800                NaN   \n",
       "198                    0.171002                  0.013145               14.0   \n",
       "199                    6.015032                  0.452634                NaN   \n",
       "200                    0.557994                  0.036035               14.0   \n",
       "201                    8.700989                  0.544433               11.0   \n",
       "\n",
       "     MOCA_SCORE_J7  MOCA_SCORE_M6  MOCA_SCORE_M12  MOCA_SCORE_M36  \\\n",
       "0             20.0           21.0            19.0            21.0   \n",
       "1             15.0           27.0             NaN             NaN   \n",
       "2             25.0           25.0            24.0            26.0   \n",
       "3             21.0            NaN            21.0             NaN   \n",
       "4             15.0           23.0             NaN            24.0   \n",
       "..             ...            ...             ...             ...   \n",
       "197           27.0            NaN             NaN             NaN   \n",
       "198           29.0           30.0             3.0            30.0   \n",
       "199           28.0            NaN             NaN             NaN   \n",
       "200           30.0           28.0            26.0            28.0   \n",
       "201           23.0            NaN             NaN             NaN   \n",
       "\n",
       "     MOCA_SCORE_M60  \n",
       "0              21.0  \n",
       "1               NaN  \n",
       "2              26.0  \n",
       "3               NaN  \n",
       "4               NaN  \n",
       "..              ...  \n",
       "197             NaN  \n",
       "198             NaN  \n",
       "199             NaN  \n",
       "200             NaN  \n",
       "201             NaN  \n",
       "\n",
       "[202 rows x 16 columns]"
      ]
     },
     "execution_count": 10,
     "metadata": {},
     "output_type": "execute_result"
    }
   ],
   "source": [
    "database = pd.read_excel(\n",
    "    '/Users/theo/Documents/Master_DATA/M2/signal_processing_for_ML/Project/Database.xlsx'\n",
    ")\n",
    "database"
   ]
  },
  {
   "cell_type": "code",
   "execution_count": 43,
   "id": "f2c3dd1d",
   "metadata": {},
   "outputs": [],
   "source": [
    "stats_volumes_all = pd.read_csv(\n",
    "    '/Users/theo/Documents/Master_DATA/M2/signal_processing_for_ML/Project/data_T1w_segmented/sclimbic_volumes_all.csv'\n",
    ")\n",
    "stats_volumes_all['ID_MRI'] = stats_volumes_all.case.apply(\n",
    "    lambda l: re.findall('-[0-9]+[A-Z]+_', l)[0][1:-1]\n",
    ")\n",
    "stats_volumes_all['ses'] = stats_volumes_all.case.apply(\n",
    "    lambda l: re.findall('_ses-[0-9]_', l)[0][-2]\n",
    ")"
   ]
  },
  {
   "cell_type": "code",
   "execution_count": 71,
   "id": "c0cb2889",
   "metadata": {},
   "outputs": [
    {
     "data": {
      "text/html": [
       "<div>\n",
       "<style scoped>\n",
       "    .dataframe tbody tr th:only-of-type {\n",
       "        vertical-align: middle;\n",
       "    }\n",
       "\n",
       "    .dataframe tbody tr th {\n",
       "        vertical-align: top;\n",
       "    }\n",
       "\n",
       "    .dataframe thead th {\n",
       "        text-align: right;\n",
       "    }\n",
       "</style>\n",
       "<table border=\"1\" class=\"dataframe\">\n",
       "  <thead>\n",
       "    <tr style=\"text-align: right;\">\n",
       "      <th></th>\n",
       "      <th>case</th>\n",
       "      <th>Left-Nucleus-Accumbens</th>\n",
       "      <th>Right-Nucleus-Accumbens</th>\n",
       "      <th>Left-HypoThal-noMB</th>\n",
       "      <th>Right-HypoThal-noMB</th>\n",
       "      <th>Left-Fornix</th>\n",
       "      <th>Right-Fornix</th>\n",
       "      <th>Left-MammillaryBody</th>\n",
       "      <th>Right-MammillaryBody</th>\n",
       "      <th>Left-Basal-Forebrain</th>\n",
       "      <th>Right-Basal-Forebrain</th>\n",
       "      <th>Left-SeptalNuc</th>\n",
       "      <th>Right-SeptalNuc</th>\n",
       "      <th>ID_MRI</th>\n",
       "      <th>ses</th>\n",
       "    </tr>\n",
       "  </thead>\n",
       "  <tbody>\n",
       "    <tr>\n",
       "      <th>0</th>\n",
       "      <td>sub-561230PV_ses-1_T1w</td>\n",
       "      <td>391.3531</td>\n",
       "      <td>425.0863</td>\n",
       "      <td>432.7346</td>\n",
       "      <td>447.6709</td>\n",
       "      <td>494.8329</td>\n",
       "      <td>581.6073</td>\n",
       "      <td>62.3889</td>\n",
       "      <td>66.3118</td>\n",
       "      <td>325.8430</td>\n",
       "      <td>360.5298</td>\n",
       "      <td>120.6973</td>\n",
       "      <td>122.6665</td>\n",
       "      <td>561230PV</td>\n",
       "      <td>1</td>\n",
       "    </tr>\n",
       "    <tr>\n",
       "      <th>1</th>\n",
       "      <td>sub-561230PV_ses-2_T1w</td>\n",
       "      <td>251.3988</td>\n",
       "      <td>270.1645</td>\n",
       "      <td>372.7118</td>\n",
       "      <td>394.6465</td>\n",
       "      <td>374.7776</td>\n",
       "      <td>335.2044</td>\n",
       "      <td>54.6505</td>\n",
       "      <td>70.3596</td>\n",
       "      <td>251.2070</td>\n",
       "      <td>291.1911</td>\n",
       "      <td>108.3337</td>\n",
       "      <td>102.6719</td>\n",
       "      <td>561230PV</td>\n",
       "      <td>2</td>\n",
       "    </tr>\n",
       "    <tr>\n",
       "      <th>2</th>\n",
       "      <td>sub-561230PV_ses-3_T1w</td>\n",
       "      <td>171.9109</td>\n",
       "      <td>194.6711</td>\n",
       "      <td>342.3279</td>\n",
       "      <td>356.0924</td>\n",
       "      <td>212.6338</td>\n",
       "      <td>255.5058</td>\n",
       "      <td>46.0859</td>\n",
       "      <td>61.7726</td>\n",
       "      <td>157.5004</td>\n",
       "      <td>228.8239</td>\n",
       "      <td>90.5746</td>\n",
       "      <td>86.4208</td>\n",
       "      <td>561230PV</td>\n",
       "      <td>3</td>\n",
       "    </tr>\n",
       "    <tr>\n",
       "      <th>3</th>\n",
       "      <td>sub-570226LD_ses-1_T1w</td>\n",
       "      <td>300.4667</td>\n",
       "      <td>318.6597</td>\n",
       "      <td>439.6470</td>\n",
       "      <td>427.5720</td>\n",
       "      <td>405.9555</td>\n",
       "      <td>362.2470</td>\n",
       "      <td>58.7780</td>\n",
       "      <td>65.1289</td>\n",
       "      <td>344.9737</td>\n",
       "      <td>373.4046</td>\n",
       "      <td>105.4529</td>\n",
       "      <td>98.2305</td>\n",
       "      <td>570226LD</td>\n",
       "      <td>1</td>\n",
       "    </tr>\n",
       "    <tr>\n",
       "      <th>4</th>\n",
       "      <td>sub-570226LD_ses-2_T1w</td>\n",
       "      <td>173.7346</td>\n",
       "      <td>187.0540</td>\n",
       "      <td>423.3690</td>\n",
       "      <td>424.0515</td>\n",
       "      <td>269.1703</td>\n",
       "      <td>265.5680</td>\n",
       "      <td>60.9708</td>\n",
       "      <td>65.0657</td>\n",
       "      <td>231.7649</td>\n",
       "      <td>287.4190</td>\n",
       "      <td>115.6659</td>\n",
       "      <td>98.9140</td>\n",
       "      <td>570226LD</td>\n",
       "      <td>2</td>\n",
       "    </tr>\n",
       "    <tr>\n",
       "      <th>...</th>\n",
       "      <td>...</td>\n",
       "      <td>...</td>\n",
       "      <td>...</td>\n",
       "      <td>...</td>\n",
       "      <td>...</td>\n",
       "      <td>...</td>\n",
       "      <td>...</td>\n",
       "      <td>...</td>\n",
       "      <td>...</td>\n",
       "      <td>...</td>\n",
       "      <td>...</td>\n",
       "      <td>...</td>\n",
       "      <td>...</td>\n",
       "      <td>...</td>\n",
       "      <td>...</td>\n",
       "    </tr>\n",
       "    <tr>\n",
       "      <th>110</th>\n",
       "      <td>sub-840909AD_ses-1_T1w</td>\n",
       "      <td>405.8038</td>\n",
       "      <td>382.3973</td>\n",
       "      <td>463.9880</td>\n",
       "      <td>458.0738</td>\n",
       "      <td>524.7967</td>\n",
       "      <td>436.2665</td>\n",
       "      <td>52.8845</td>\n",
       "      <td>55.8508</td>\n",
       "      <td>275.6154</td>\n",
       "      <td>341.4301</td>\n",
       "      <td>98.8994</td>\n",
       "      <td>100.0969</td>\n",
       "      <td>840909AD</td>\n",
       "      <td>1</td>\n",
       "    </tr>\n",
       "    <tr>\n",
       "      <th>111</th>\n",
       "      <td>sub-840909AD_ses-2_T1w</td>\n",
       "      <td>238.6950</td>\n",
       "      <td>247.1719</td>\n",
       "      <td>409.8737</td>\n",
       "      <td>436.8664</td>\n",
       "      <td>477.9832</td>\n",
       "      <td>384.8245</td>\n",
       "      <td>52.6565</td>\n",
       "      <td>58.4198</td>\n",
       "      <td>241.1009</td>\n",
       "      <td>296.9810</td>\n",
       "      <td>96.8124</td>\n",
       "      <td>91.1176</td>\n",
       "      <td>840909AD</td>\n",
       "      <td>2</td>\n",
       "    </tr>\n",
       "    <tr>\n",
       "      <th>112</th>\n",
       "      <td>sub-840909AD_ses-3_T1w</td>\n",
       "      <td>414.5515</td>\n",
       "      <td>357.0838</td>\n",
       "      <td>442.7585</td>\n",
       "      <td>499.3550</td>\n",
       "      <td>494.3750</td>\n",
       "      <td>394.3424</td>\n",
       "      <td>53.7393</td>\n",
       "      <td>54.6239</td>\n",
       "      <td>294.2897</td>\n",
       "      <td>299.6799</td>\n",
       "      <td>99.5165</td>\n",
       "      <td>98.0320</td>\n",
       "      <td>840909AD</td>\n",
       "      <td>3</td>\n",
       "    </tr>\n",
       "    <tr>\n",
       "      <th>113</th>\n",
       "      <td>sub-851225EM_ses-1_T1w</td>\n",
       "      <td>428.0245</td>\n",
       "      <td>398.5379</td>\n",
       "      <td>485.7228</td>\n",
       "      <td>500.7216</td>\n",
       "      <td>515.3477</td>\n",
       "      <td>520.8797</td>\n",
       "      <td>56.6751</td>\n",
       "      <td>58.5832</td>\n",
       "      <td>315.8894</td>\n",
       "      <td>331.2284</td>\n",
       "      <td>100.6950</td>\n",
       "      <td>97.7037</td>\n",
       "      <td>851225EM</td>\n",
       "      <td>1</td>\n",
       "    </tr>\n",
       "    <tr>\n",
       "      <th>114</th>\n",
       "      <td>sub-851225EM_ses-2_T1w</td>\n",
       "      <td>460.4597</td>\n",
       "      <td>460.7467</td>\n",
       "      <td>522.5929</td>\n",
       "      <td>518.6761</td>\n",
       "      <td>511.8454</td>\n",
       "      <td>514.7566</td>\n",
       "      <td>55.1907</td>\n",
       "      <td>59.5580</td>\n",
       "      <td>310.8177</td>\n",
       "      <td>341.9634</td>\n",
       "      <td>98.9336</td>\n",
       "      <td>94.4100</td>\n",
       "      <td>851225EM</td>\n",
       "      <td>2</td>\n",
       "    </tr>\n",
       "  </tbody>\n",
       "</table>\n",
       "<p>115 rows × 15 columns</p>\n",
       "</div>"
      ],
      "text/plain": [
       "                       case  Left-Nucleus-Accumbens  Right-Nucleus-Accumbens  \\\n",
       "0    sub-561230PV_ses-1_T1w                391.3531                 425.0863   \n",
       "1    sub-561230PV_ses-2_T1w                251.3988                 270.1645   \n",
       "2    sub-561230PV_ses-3_T1w                171.9109                 194.6711   \n",
       "3    sub-570226LD_ses-1_T1w                300.4667                 318.6597   \n",
       "4    sub-570226LD_ses-2_T1w                173.7346                 187.0540   \n",
       "..                      ...                     ...                      ...   \n",
       "110  sub-840909AD_ses-1_T1w                405.8038                 382.3973   \n",
       "111  sub-840909AD_ses-2_T1w                238.6950                 247.1719   \n",
       "112  sub-840909AD_ses-3_T1w                414.5515                 357.0838   \n",
       "113  sub-851225EM_ses-1_T1w                428.0245                 398.5379   \n",
       "114  sub-851225EM_ses-2_T1w                460.4597                 460.7467   \n",
       "\n",
       "     Left-HypoThal-noMB  Right-HypoThal-noMB  Left-Fornix  Right-Fornix  \\\n",
       "0              432.7346             447.6709     494.8329      581.6073   \n",
       "1              372.7118             394.6465     374.7776      335.2044   \n",
       "2              342.3279             356.0924     212.6338      255.5058   \n",
       "3              439.6470             427.5720     405.9555      362.2470   \n",
       "4              423.3690             424.0515     269.1703      265.5680   \n",
       "..                  ...                  ...          ...           ...   \n",
       "110            463.9880             458.0738     524.7967      436.2665   \n",
       "111            409.8737             436.8664     477.9832      384.8245   \n",
       "112            442.7585             499.3550     494.3750      394.3424   \n",
       "113            485.7228             500.7216     515.3477      520.8797   \n",
       "114            522.5929             518.6761     511.8454      514.7566   \n",
       "\n",
       "     Left-MammillaryBody  Right-MammillaryBody  Left-Basal-Forebrain  \\\n",
       "0                62.3889               66.3118              325.8430   \n",
       "1                54.6505               70.3596              251.2070   \n",
       "2                46.0859               61.7726              157.5004   \n",
       "3                58.7780               65.1289              344.9737   \n",
       "4                60.9708               65.0657              231.7649   \n",
       "..                   ...                   ...                   ...   \n",
       "110              52.8845               55.8508              275.6154   \n",
       "111              52.6565               58.4198              241.1009   \n",
       "112              53.7393               54.6239              294.2897   \n",
       "113              56.6751               58.5832              315.8894   \n",
       "114              55.1907               59.5580              310.8177   \n",
       "\n",
       "     Right-Basal-Forebrain  Left-SeptalNuc  Right-SeptalNuc    ID_MRI ses  \n",
       "0                 360.5298        120.6973         122.6665  561230PV   1  \n",
       "1                 291.1911        108.3337         102.6719  561230PV   2  \n",
       "2                 228.8239         90.5746          86.4208  561230PV   3  \n",
       "3                 373.4046        105.4529          98.2305  570226LD   1  \n",
       "4                 287.4190        115.6659          98.9140  570226LD   2  \n",
       "..                     ...             ...              ...       ...  ..  \n",
       "110               341.4301         98.8994         100.0969  840909AD   1  \n",
       "111               296.9810         96.8124          91.1176  840909AD   2  \n",
       "112               299.6799         99.5165          98.0320  840909AD   3  \n",
       "113               331.2284        100.6950          97.7037  851225EM   1  \n",
       "114               341.9634         98.9336          94.4100  851225EM   2  \n",
       "\n",
       "[115 rows x 15 columns]"
      ]
     },
     "execution_count": 71,
     "metadata": {},
     "output_type": "execute_result"
    }
   ],
   "source": [
    "stats_volumes_all"
   ]
  },
  {
   "cell_type": "code",
   "execution_count": 121,
   "id": "3c876654",
   "metadata": {},
   "outputs": [],
   "source": [
    "new_database = database.merge(stats_volumes_all, how='inner', on='ID_MRI')\n",
    "new_database.ses = new_database.ses.apply(lambda x: int(x))"
   ]
  },
  {
   "cell_type": "code",
   "execution_count": 122,
   "id": "1ff4a207",
   "metadata": {},
   "outputs": [
    {
     "data": {
      "application/vnd.plotly.v1+json": {
       "config": {
        "plotlyServerURL": "https://plot.ly"
       },
       "data": [
        {
         "alignmentgroup": "True",
         "bingroup": "x",
         "hovertemplate": "GENRE=M<br>AGE=%{x}<br>count=%{y}<extra></extra>",
         "legendgroup": "M",
         "marker": {
          "color": "#636efa",
          "pattern": {
           "shape": ""
          }
         },
         "name": "M",
         "offsetgroup": "M",
         "orientation": "v",
         "showlegend": true,
         "type": "histogram",
         "x": [
          52,
          52,
          52,
          40,
          40,
          40,
          44,
          44,
          51,
          51,
          51,
          42,
          42,
          42,
          25,
          25,
          43,
          43,
          43,
          50,
          50,
          50,
          50,
          50,
          50,
          50,
          50,
          50,
          51,
          51,
          51,
          39,
          39,
          39,
          42,
          42,
          38,
          38,
          38,
          55,
          55,
          55,
          54,
          54,
          54,
          53,
          53,
          44,
          44,
          44,
          50,
          50,
          46,
          46,
          46,
          53,
          53,
          53,
          46,
          46,
          46,
          46,
          46,
          38,
          38,
          38,
          53,
          53,
          53,
          53,
          53,
          49,
          51,
          51,
          51,
          49,
          49,
          49
         ],
         "xaxis": "x",
         "yaxis": "y"
        },
        {
         "alignmentgroup": "True",
         "bingroup": "x",
         "hovertemplate": "GENRE=F<br>AGE=%{x}<br>count=%{y}<extra></extra>",
         "legendgroup": "F",
         "marker": {
          "color": "#EF553B",
          "pattern": {
           "shape": ""
          }
         },
         "name": "F",
         "offsetgroup": "F",
         "orientation": "v",
         "showlegend": true,
         "type": "histogram",
         "x": [
          45,
          52,
          52,
          52,
          49,
          49,
          46,
          46,
          49,
          49,
          49,
          49,
          49,
          45,
          45,
          45,
          32,
          32,
          32,
          56,
          56,
          29,
          29,
          29,
          44,
          44,
          44,
          50,
          50,
          51,
          51,
          51,
          43,
          43,
          53,
          53,
          53
         ],
         "xaxis": "x",
         "yaxis": "y"
        }
       ],
       "layout": {
        "barmode": "relative",
        "legend": {
         "title": {
          "text": "GENRE"
         },
         "tracegroupgap": 0
        },
        "margin": {
         "t": 60
        },
        "template": {
         "data": {
          "bar": [
           {
            "error_x": {
             "color": "#2a3f5f"
            },
            "error_y": {
             "color": "#2a3f5f"
            },
            "marker": {
             "line": {
              "color": "#E5ECF6",
              "width": 0.5
             },
             "pattern": {
              "fillmode": "overlay",
              "size": 10,
              "solidity": 0.2
             }
            },
            "type": "bar"
           }
          ],
          "barpolar": [
           {
            "marker": {
             "line": {
              "color": "#E5ECF6",
              "width": 0.5
             },
             "pattern": {
              "fillmode": "overlay",
              "size": 10,
              "solidity": 0.2
             }
            },
            "type": "barpolar"
           }
          ],
          "carpet": [
           {
            "aaxis": {
             "endlinecolor": "#2a3f5f",
             "gridcolor": "white",
             "linecolor": "white",
             "minorgridcolor": "white",
             "startlinecolor": "#2a3f5f"
            },
            "baxis": {
             "endlinecolor": "#2a3f5f",
             "gridcolor": "white",
             "linecolor": "white",
             "minorgridcolor": "white",
             "startlinecolor": "#2a3f5f"
            },
            "type": "carpet"
           }
          ],
          "choropleth": [
           {
            "colorbar": {
             "outlinewidth": 0,
             "ticks": ""
            },
            "type": "choropleth"
           }
          ],
          "contour": [
           {
            "colorbar": {
             "outlinewidth": 0,
             "ticks": ""
            },
            "colorscale": [
             [
              0,
              "#0d0887"
             ],
             [
              0.1111111111111111,
              "#46039f"
             ],
             [
              0.2222222222222222,
              "#7201a8"
             ],
             [
              0.3333333333333333,
              "#9c179e"
             ],
             [
              0.4444444444444444,
              "#bd3786"
             ],
             [
              0.5555555555555556,
              "#d8576b"
             ],
             [
              0.6666666666666666,
              "#ed7953"
             ],
             [
              0.7777777777777778,
              "#fb9f3a"
             ],
             [
              0.8888888888888888,
              "#fdca26"
             ],
             [
              1,
              "#f0f921"
             ]
            ],
            "type": "contour"
           }
          ],
          "contourcarpet": [
           {
            "colorbar": {
             "outlinewidth": 0,
             "ticks": ""
            },
            "type": "contourcarpet"
           }
          ],
          "heatmap": [
           {
            "colorbar": {
             "outlinewidth": 0,
             "ticks": ""
            },
            "colorscale": [
             [
              0,
              "#0d0887"
             ],
             [
              0.1111111111111111,
              "#46039f"
             ],
             [
              0.2222222222222222,
              "#7201a8"
             ],
             [
              0.3333333333333333,
              "#9c179e"
             ],
             [
              0.4444444444444444,
              "#bd3786"
             ],
             [
              0.5555555555555556,
              "#d8576b"
             ],
             [
              0.6666666666666666,
              "#ed7953"
             ],
             [
              0.7777777777777778,
              "#fb9f3a"
             ],
             [
              0.8888888888888888,
              "#fdca26"
             ],
             [
              1,
              "#f0f921"
             ]
            ],
            "type": "heatmap"
           }
          ],
          "heatmapgl": [
           {
            "colorbar": {
             "outlinewidth": 0,
             "ticks": ""
            },
            "colorscale": [
             [
              0,
              "#0d0887"
             ],
             [
              0.1111111111111111,
              "#46039f"
             ],
             [
              0.2222222222222222,
              "#7201a8"
             ],
             [
              0.3333333333333333,
              "#9c179e"
             ],
             [
              0.4444444444444444,
              "#bd3786"
             ],
             [
              0.5555555555555556,
              "#d8576b"
             ],
             [
              0.6666666666666666,
              "#ed7953"
             ],
             [
              0.7777777777777778,
              "#fb9f3a"
             ],
             [
              0.8888888888888888,
              "#fdca26"
             ],
             [
              1,
              "#f0f921"
             ]
            ],
            "type": "heatmapgl"
           }
          ],
          "histogram": [
           {
            "marker": {
             "pattern": {
              "fillmode": "overlay",
              "size": 10,
              "solidity": 0.2
             }
            },
            "type": "histogram"
           }
          ],
          "histogram2d": [
           {
            "colorbar": {
             "outlinewidth": 0,
             "ticks": ""
            },
            "colorscale": [
             [
              0,
              "#0d0887"
             ],
             [
              0.1111111111111111,
              "#46039f"
             ],
             [
              0.2222222222222222,
              "#7201a8"
             ],
             [
              0.3333333333333333,
              "#9c179e"
             ],
             [
              0.4444444444444444,
              "#bd3786"
             ],
             [
              0.5555555555555556,
              "#d8576b"
             ],
             [
              0.6666666666666666,
              "#ed7953"
             ],
             [
              0.7777777777777778,
              "#fb9f3a"
             ],
             [
              0.8888888888888888,
              "#fdca26"
             ],
             [
              1,
              "#f0f921"
             ]
            ],
            "type": "histogram2d"
           }
          ],
          "histogram2dcontour": [
           {
            "colorbar": {
             "outlinewidth": 0,
             "ticks": ""
            },
            "colorscale": [
             [
              0,
              "#0d0887"
             ],
             [
              0.1111111111111111,
              "#46039f"
             ],
             [
              0.2222222222222222,
              "#7201a8"
             ],
             [
              0.3333333333333333,
              "#9c179e"
             ],
             [
              0.4444444444444444,
              "#bd3786"
             ],
             [
              0.5555555555555556,
              "#d8576b"
             ],
             [
              0.6666666666666666,
              "#ed7953"
             ],
             [
              0.7777777777777778,
              "#fb9f3a"
             ],
             [
              0.8888888888888888,
              "#fdca26"
             ],
             [
              1,
              "#f0f921"
             ]
            ],
            "type": "histogram2dcontour"
           }
          ],
          "mesh3d": [
           {
            "colorbar": {
             "outlinewidth": 0,
             "ticks": ""
            },
            "type": "mesh3d"
           }
          ],
          "parcoords": [
           {
            "line": {
             "colorbar": {
              "outlinewidth": 0,
              "ticks": ""
             }
            },
            "type": "parcoords"
           }
          ],
          "pie": [
           {
            "automargin": true,
            "type": "pie"
           }
          ],
          "scatter": [
           {
            "marker": {
             "colorbar": {
              "outlinewidth": 0,
              "ticks": ""
             }
            },
            "type": "scatter"
           }
          ],
          "scatter3d": [
           {
            "line": {
             "colorbar": {
              "outlinewidth": 0,
              "ticks": ""
             }
            },
            "marker": {
             "colorbar": {
              "outlinewidth": 0,
              "ticks": ""
             }
            },
            "type": "scatter3d"
           }
          ],
          "scattercarpet": [
           {
            "marker": {
             "colorbar": {
              "outlinewidth": 0,
              "ticks": ""
             }
            },
            "type": "scattercarpet"
           }
          ],
          "scattergeo": [
           {
            "marker": {
             "colorbar": {
              "outlinewidth": 0,
              "ticks": ""
             }
            },
            "type": "scattergeo"
           }
          ],
          "scattergl": [
           {
            "marker": {
             "colorbar": {
              "outlinewidth": 0,
              "ticks": ""
             }
            },
            "type": "scattergl"
           }
          ],
          "scattermapbox": [
           {
            "marker": {
             "colorbar": {
              "outlinewidth": 0,
              "ticks": ""
             }
            },
            "type": "scattermapbox"
           }
          ],
          "scatterpolar": [
           {
            "marker": {
             "colorbar": {
              "outlinewidth": 0,
              "ticks": ""
             }
            },
            "type": "scatterpolar"
           }
          ],
          "scatterpolargl": [
           {
            "marker": {
             "colorbar": {
              "outlinewidth": 0,
              "ticks": ""
             }
            },
            "type": "scatterpolargl"
           }
          ],
          "scatterternary": [
           {
            "marker": {
             "colorbar": {
              "outlinewidth": 0,
              "ticks": ""
             }
            },
            "type": "scatterternary"
           }
          ],
          "surface": [
           {
            "colorbar": {
             "outlinewidth": 0,
             "ticks": ""
            },
            "colorscale": [
             [
              0,
              "#0d0887"
             ],
             [
              0.1111111111111111,
              "#46039f"
             ],
             [
              0.2222222222222222,
              "#7201a8"
             ],
             [
              0.3333333333333333,
              "#9c179e"
             ],
             [
              0.4444444444444444,
              "#bd3786"
             ],
             [
              0.5555555555555556,
              "#d8576b"
             ],
             [
              0.6666666666666666,
              "#ed7953"
             ],
             [
              0.7777777777777778,
              "#fb9f3a"
             ],
             [
              0.8888888888888888,
              "#fdca26"
             ],
             [
              1,
              "#f0f921"
             ]
            ],
            "type": "surface"
           }
          ],
          "table": [
           {
            "cells": {
             "fill": {
              "color": "#EBF0F8"
             },
             "line": {
              "color": "white"
             }
            },
            "header": {
             "fill": {
              "color": "#C8D4E3"
             },
             "line": {
              "color": "white"
             }
            },
            "type": "table"
           }
          ]
         },
         "layout": {
          "annotationdefaults": {
           "arrowcolor": "#2a3f5f",
           "arrowhead": 0,
           "arrowwidth": 1
          },
          "autotypenumbers": "strict",
          "coloraxis": {
           "colorbar": {
            "outlinewidth": 0,
            "ticks": ""
           }
          },
          "colorscale": {
           "diverging": [
            [
             0,
             "#8e0152"
            ],
            [
             0.1,
             "#c51b7d"
            ],
            [
             0.2,
             "#de77ae"
            ],
            [
             0.3,
             "#f1b6da"
            ],
            [
             0.4,
             "#fde0ef"
            ],
            [
             0.5,
             "#f7f7f7"
            ],
            [
             0.6,
             "#e6f5d0"
            ],
            [
             0.7,
             "#b8e186"
            ],
            [
             0.8,
             "#7fbc41"
            ],
            [
             0.9,
             "#4d9221"
            ],
            [
             1,
             "#276419"
            ]
           ],
           "sequential": [
            [
             0,
             "#0d0887"
            ],
            [
             0.1111111111111111,
             "#46039f"
            ],
            [
             0.2222222222222222,
             "#7201a8"
            ],
            [
             0.3333333333333333,
             "#9c179e"
            ],
            [
             0.4444444444444444,
             "#bd3786"
            ],
            [
             0.5555555555555556,
             "#d8576b"
            ],
            [
             0.6666666666666666,
             "#ed7953"
            ],
            [
             0.7777777777777778,
             "#fb9f3a"
            ],
            [
             0.8888888888888888,
             "#fdca26"
            ],
            [
             1,
             "#f0f921"
            ]
           ],
           "sequentialminus": [
            [
             0,
             "#0d0887"
            ],
            [
             0.1111111111111111,
             "#46039f"
            ],
            [
             0.2222222222222222,
             "#7201a8"
            ],
            [
             0.3333333333333333,
             "#9c179e"
            ],
            [
             0.4444444444444444,
             "#bd3786"
            ],
            [
             0.5555555555555556,
             "#d8576b"
            ],
            [
             0.6666666666666666,
             "#ed7953"
            ],
            [
             0.7777777777777778,
             "#fb9f3a"
            ],
            [
             0.8888888888888888,
             "#fdca26"
            ],
            [
             1,
             "#f0f921"
            ]
           ]
          },
          "colorway": [
           "#636efa",
           "#EF553B",
           "#00cc96",
           "#ab63fa",
           "#FFA15A",
           "#19d3f3",
           "#FF6692",
           "#B6E880",
           "#FF97FF",
           "#FECB52"
          ],
          "font": {
           "color": "#2a3f5f"
          },
          "geo": {
           "bgcolor": "white",
           "lakecolor": "white",
           "landcolor": "#E5ECF6",
           "showlakes": true,
           "showland": true,
           "subunitcolor": "white"
          },
          "hoverlabel": {
           "align": "left"
          },
          "hovermode": "closest",
          "mapbox": {
           "style": "light"
          },
          "paper_bgcolor": "white",
          "plot_bgcolor": "#E5ECF6",
          "polar": {
           "angularaxis": {
            "gridcolor": "white",
            "linecolor": "white",
            "ticks": ""
           },
           "bgcolor": "#E5ECF6",
           "radialaxis": {
            "gridcolor": "white",
            "linecolor": "white",
            "ticks": ""
           }
          },
          "scene": {
           "xaxis": {
            "backgroundcolor": "#E5ECF6",
            "gridcolor": "white",
            "gridwidth": 2,
            "linecolor": "white",
            "showbackground": true,
            "ticks": "",
            "zerolinecolor": "white"
           },
           "yaxis": {
            "backgroundcolor": "#E5ECF6",
            "gridcolor": "white",
            "gridwidth": 2,
            "linecolor": "white",
            "showbackground": true,
            "ticks": "",
            "zerolinecolor": "white"
           },
           "zaxis": {
            "backgroundcolor": "#E5ECF6",
            "gridcolor": "white",
            "gridwidth": 2,
            "linecolor": "white",
            "showbackground": true,
            "ticks": "",
            "zerolinecolor": "white"
           }
          },
          "shapedefaults": {
           "line": {
            "color": "#2a3f5f"
           }
          },
          "ternary": {
           "aaxis": {
            "gridcolor": "white",
            "linecolor": "white",
            "ticks": ""
           },
           "baxis": {
            "gridcolor": "white",
            "linecolor": "white",
            "ticks": ""
           },
           "bgcolor": "#E5ECF6",
           "caxis": {
            "gridcolor": "white",
            "linecolor": "white",
            "ticks": ""
           }
          },
          "title": {
           "x": 0.05
          },
          "xaxis": {
           "automargin": true,
           "gridcolor": "white",
           "linecolor": "white",
           "ticks": "",
           "title": {
            "standoff": 15
           },
           "zerolinecolor": "white",
           "zerolinewidth": 2
          },
          "yaxis": {
           "automargin": true,
           "gridcolor": "white",
           "linecolor": "white",
           "ticks": "",
           "title": {
            "standoff": 15
           },
           "zerolinecolor": "white",
           "zerolinewidth": 2
          }
         }
        },
        "xaxis": {
         "anchor": "y",
         "domain": [
          0,
          1
         ],
         "title": {
          "text": "AGE"
         }
        },
        "yaxis": {
         "anchor": "x",
         "domain": [
          0,
          1
         ],
         "title": {
          "text": "count"
         }
        }
       }
      },
      "text/html": [
       "<div>                            <div id=\"2735da97-b8ff-4745-b109-c609452e7f08\" class=\"plotly-graph-div\" style=\"height:525px; width:100%;\"></div>            <script type=\"text/javascript\">                require([\"plotly\"], function(Plotly) {                    window.PLOTLYENV=window.PLOTLYENV || {};                                    if (document.getElementById(\"2735da97-b8ff-4745-b109-c609452e7f08\")) {                    Plotly.newPlot(                        \"2735da97-b8ff-4745-b109-c609452e7f08\",                        [{\"alignmentgroup\":\"True\",\"bingroup\":\"x\",\"hovertemplate\":\"GENRE=M<br>AGE=%{x}<br>count=%{y}<extra></extra>\",\"legendgroup\":\"M\",\"marker\":{\"color\":\"#636efa\",\"pattern\":{\"shape\":\"\"}},\"name\":\"M\",\"offsetgroup\":\"M\",\"orientation\":\"v\",\"showlegend\":true,\"x\":[52,52,52,40,40,40,44,44,51,51,51,42,42,42,25,25,43,43,43,50,50,50,50,50,50,50,50,50,51,51,51,39,39,39,42,42,38,38,38,55,55,55,54,54,54,53,53,44,44,44,50,50,46,46,46,53,53,53,46,46,46,46,46,38,38,38,53,53,53,53,53,49,51,51,51,49,49,49],\"xaxis\":\"x\",\"yaxis\":\"y\",\"type\":\"histogram\"},{\"alignmentgroup\":\"True\",\"bingroup\":\"x\",\"hovertemplate\":\"GENRE=F<br>AGE=%{x}<br>count=%{y}<extra></extra>\",\"legendgroup\":\"F\",\"marker\":{\"color\":\"#EF553B\",\"pattern\":{\"shape\":\"\"}},\"name\":\"F\",\"offsetgroup\":\"F\",\"orientation\":\"v\",\"showlegend\":true,\"x\":[45,52,52,52,49,49,46,46,49,49,49,49,49,45,45,45,32,32,32,56,56,29,29,29,44,44,44,50,50,51,51,51,43,43,53,53,53],\"xaxis\":\"x\",\"yaxis\":\"y\",\"type\":\"histogram\"}],                        {\"template\":{\"data\":{\"bar\":[{\"error_x\":{\"color\":\"#2a3f5f\"},\"error_y\":{\"color\":\"#2a3f5f\"},\"marker\":{\"line\":{\"color\":\"#E5ECF6\",\"width\":0.5},\"pattern\":{\"fillmode\":\"overlay\",\"size\":10,\"solidity\":0.2}},\"type\":\"bar\"}],\"barpolar\":[{\"marker\":{\"line\":{\"color\":\"#E5ECF6\",\"width\":0.5},\"pattern\":{\"fillmode\":\"overlay\",\"size\":10,\"solidity\":0.2}},\"type\":\"barpolar\"}],\"carpet\":[{\"aaxis\":{\"endlinecolor\":\"#2a3f5f\",\"gridcolor\":\"white\",\"linecolor\":\"white\",\"minorgridcolor\":\"white\",\"startlinecolor\":\"#2a3f5f\"},\"baxis\":{\"endlinecolor\":\"#2a3f5f\",\"gridcolor\":\"white\",\"linecolor\":\"white\",\"minorgridcolor\":\"white\",\"startlinecolor\":\"#2a3f5f\"},\"type\":\"carpet\"}],\"choropleth\":[{\"colorbar\":{\"outlinewidth\":0,\"ticks\":\"\"},\"type\":\"choropleth\"}],\"contour\":[{\"colorbar\":{\"outlinewidth\":0,\"ticks\":\"\"},\"colorscale\":[[0.0,\"#0d0887\"],[0.1111111111111111,\"#46039f\"],[0.2222222222222222,\"#7201a8\"],[0.3333333333333333,\"#9c179e\"],[0.4444444444444444,\"#bd3786\"],[0.5555555555555556,\"#d8576b\"],[0.6666666666666666,\"#ed7953\"],[0.7777777777777778,\"#fb9f3a\"],[0.8888888888888888,\"#fdca26\"],[1.0,\"#f0f921\"]],\"type\":\"contour\"}],\"contourcarpet\":[{\"colorbar\":{\"outlinewidth\":0,\"ticks\":\"\"},\"type\":\"contourcarpet\"}],\"heatmap\":[{\"colorbar\":{\"outlinewidth\":0,\"ticks\":\"\"},\"colorscale\":[[0.0,\"#0d0887\"],[0.1111111111111111,\"#46039f\"],[0.2222222222222222,\"#7201a8\"],[0.3333333333333333,\"#9c179e\"],[0.4444444444444444,\"#bd3786\"],[0.5555555555555556,\"#d8576b\"],[0.6666666666666666,\"#ed7953\"],[0.7777777777777778,\"#fb9f3a\"],[0.8888888888888888,\"#fdca26\"],[1.0,\"#f0f921\"]],\"type\":\"heatmap\"}],\"heatmapgl\":[{\"colorbar\":{\"outlinewidth\":0,\"ticks\":\"\"},\"colorscale\":[[0.0,\"#0d0887\"],[0.1111111111111111,\"#46039f\"],[0.2222222222222222,\"#7201a8\"],[0.3333333333333333,\"#9c179e\"],[0.4444444444444444,\"#bd3786\"],[0.5555555555555556,\"#d8576b\"],[0.6666666666666666,\"#ed7953\"],[0.7777777777777778,\"#fb9f3a\"],[0.8888888888888888,\"#fdca26\"],[1.0,\"#f0f921\"]],\"type\":\"heatmapgl\"}],\"histogram\":[{\"marker\":{\"pattern\":{\"fillmode\":\"overlay\",\"size\":10,\"solidity\":0.2}},\"type\":\"histogram\"}],\"histogram2d\":[{\"colorbar\":{\"outlinewidth\":0,\"ticks\":\"\"},\"colorscale\":[[0.0,\"#0d0887\"],[0.1111111111111111,\"#46039f\"],[0.2222222222222222,\"#7201a8\"],[0.3333333333333333,\"#9c179e\"],[0.4444444444444444,\"#bd3786\"],[0.5555555555555556,\"#d8576b\"],[0.6666666666666666,\"#ed7953\"],[0.7777777777777778,\"#fb9f3a\"],[0.8888888888888888,\"#fdca26\"],[1.0,\"#f0f921\"]],\"type\":\"histogram2d\"}],\"histogram2dcontour\":[{\"colorbar\":{\"outlinewidth\":0,\"ticks\":\"\"},\"colorscale\":[[0.0,\"#0d0887\"],[0.1111111111111111,\"#46039f\"],[0.2222222222222222,\"#7201a8\"],[0.3333333333333333,\"#9c179e\"],[0.4444444444444444,\"#bd3786\"],[0.5555555555555556,\"#d8576b\"],[0.6666666666666666,\"#ed7953\"],[0.7777777777777778,\"#fb9f3a\"],[0.8888888888888888,\"#fdca26\"],[1.0,\"#f0f921\"]],\"type\":\"histogram2dcontour\"}],\"mesh3d\":[{\"colorbar\":{\"outlinewidth\":0,\"ticks\":\"\"},\"type\":\"mesh3d\"}],\"parcoords\":[{\"line\":{\"colorbar\":{\"outlinewidth\":0,\"ticks\":\"\"}},\"type\":\"parcoords\"}],\"pie\":[{\"automargin\":true,\"type\":\"pie\"}],\"scatter\":[{\"marker\":{\"colorbar\":{\"outlinewidth\":0,\"ticks\":\"\"}},\"type\":\"scatter\"}],\"scatter3d\":[{\"line\":{\"colorbar\":{\"outlinewidth\":0,\"ticks\":\"\"}},\"marker\":{\"colorbar\":{\"outlinewidth\":0,\"ticks\":\"\"}},\"type\":\"scatter3d\"}],\"scattercarpet\":[{\"marker\":{\"colorbar\":{\"outlinewidth\":0,\"ticks\":\"\"}},\"type\":\"scattercarpet\"}],\"scattergeo\":[{\"marker\":{\"colorbar\":{\"outlinewidth\":0,\"ticks\":\"\"}},\"type\":\"scattergeo\"}],\"scattergl\":[{\"marker\":{\"colorbar\":{\"outlinewidth\":0,\"ticks\":\"\"}},\"type\":\"scattergl\"}],\"scattermapbox\":[{\"marker\":{\"colorbar\":{\"outlinewidth\":0,\"ticks\":\"\"}},\"type\":\"scattermapbox\"}],\"scatterpolar\":[{\"marker\":{\"colorbar\":{\"outlinewidth\":0,\"ticks\":\"\"}},\"type\":\"scatterpolar\"}],\"scatterpolargl\":[{\"marker\":{\"colorbar\":{\"outlinewidth\":0,\"ticks\":\"\"}},\"type\":\"scatterpolargl\"}],\"scatterternary\":[{\"marker\":{\"colorbar\":{\"outlinewidth\":0,\"ticks\":\"\"}},\"type\":\"scatterternary\"}],\"surface\":[{\"colorbar\":{\"outlinewidth\":0,\"ticks\":\"\"},\"colorscale\":[[0.0,\"#0d0887\"],[0.1111111111111111,\"#46039f\"],[0.2222222222222222,\"#7201a8\"],[0.3333333333333333,\"#9c179e\"],[0.4444444444444444,\"#bd3786\"],[0.5555555555555556,\"#d8576b\"],[0.6666666666666666,\"#ed7953\"],[0.7777777777777778,\"#fb9f3a\"],[0.8888888888888888,\"#fdca26\"],[1.0,\"#f0f921\"]],\"type\":\"surface\"}],\"table\":[{\"cells\":{\"fill\":{\"color\":\"#EBF0F8\"},\"line\":{\"color\":\"white\"}},\"header\":{\"fill\":{\"color\":\"#C8D4E3\"},\"line\":{\"color\":\"white\"}},\"type\":\"table\"}]},\"layout\":{\"annotationdefaults\":{\"arrowcolor\":\"#2a3f5f\",\"arrowhead\":0,\"arrowwidth\":1},\"autotypenumbers\":\"strict\",\"coloraxis\":{\"colorbar\":{\"outlinewidth\":0,\"ticks\":\"\"}},\"colorscale\":{\"diverging\":[[0,\"#8e0152\"],[0.1,\"#c51b7d\"],[0.2,\"#de77ae\"],[0.3,\"#f1b6da\"],[0.4,\"#fde0ef\"],[0.5,\"#f7f7f7\"],[0.6,\"#e6f5d0\"],[0.7,\"#b8e186\"],[0.8,\"#7fbc41\"],[0.9,\"#4d9221\"],[1,\"#276419\"]],\"sequential\":[[0.0,\"#0d0887\"],[0.1111111111111111,\"#46039f\"],[0.2222222222222222,\"#7201a8\"],[0.3333333333333333,\"#9c179e\"],[0.4444444444444444,\"#bd3786\"],[0.5555555555555556,\"#d8576b\"],[0.6666666666666666,\"#ed7953\"],[0.7777777777777778,\"#fb9f3a\"],[0.8888888888888888,\"#fdca26\"],[1.0,\"#f0f921\"]],\"sequentialminus\":[[0.0,\"#0d0887\"],[0.1111111111111111,\"#46039f\"],[0.2222222222222222,\"#7201a8\"],[0.3333333333333333,\"#9c179e\"],[0.4444444444444444,\"#bd3786\"],[0.5555555555555556,\"#d8576b\"],[0.6666666666666666,\"#ed7953\"],[0.7777777777777778,\"#fb9f3a\"],[0.8888888888888888,\"#fdca26\"],[1.0,\"#f0f921\"]]},\"colorway\":[\"#636efa\",\"#EF553B\",\"#00cc96\",\"#ab63fa\",\"#FFA15A\",\"#19d3f3\",\"#FF6692\",\"#B6E880\",\"#FF97FF\",\"#FECB52\"],\"font\":{\"color\":\"#2a3f5f\"},\"geo\":{\"bgcolor\":\"white\",\"lakecolor\":\"white\",\"landcolor\":\"#E5ECF6\",\"showlakes\":true,\"showland\":true,\"subunitcolor\":\"white\"},\"hoverlabel\":{\"align\":\"left\"},\"hovermode\":\"closest\",\"mapbox\":{\"style\":\"light\"},\"paper_bgcolor\":\"white\",\"plot_bgcolor\":\"#E5ECF6\",\"polar\":{\"angularaxis\":{\"gridcolor\":\"white\",\"linecolor\":\"white\",\"ticks\":\"\"},\"bgcolor\":\"#E5ECF6\",\"radialaxis\":{\"gridcolor\":\"white\",\"linecolor\":\"white\",\"ticks\":\"\"}},\"scene\":{\"xaxis\":{\"backgroundcolor\":\"#E5ECF6\",\"gridcolor\":\"white\",\"gridwidth\":2,\"linecolor\":\"white\",\"showbackground\":true,\"ticks\":\"\",\"zerolinecolor\":\"white\"},\"yaxis\":{\"backgroundcolor\":\"#E5ECF6\",\"gridcolor\":\"white\",\"gridwidth\":2,\"linecolor\":\"white\",\"showbackground\":true,\"ticks\":\"\",\"zerolinecolor\":\"white\"},\"zaxis\":{\"backgroundcolor\":\"#E5ECF6\",\"gridcolor\":\"white\",\"gridwidth\":2,\"linecolor\":\"white\",\"showbackground\":true,\"ticks\":\"\",\"zerolinecolor\":\"white\"}},\"shapedefaults\":{\"line\":{\"color\":\"#2a3f5f\"}},\"ternary\":{\"aaxis\":{\"gridcolor\":\"white\",\"linecolor\":\"white\",\"ticks\":\"\"},\"baxis\":{\"gridcolor\":\"white\",\"linecolor\":\"white\",\"ticks\":\"\"},\"bgcolor\":\"#E5ECF6\",\"caxis\":{\"gridcolor\":\"white\",\"linecolor\":\"white\",\"ticks\":\"\"}},\"title\":{\"x\":0.05},\"xaxis\":{\"automargin\":true,\"gridcolor\":\"white\",\"linecolor\":\"white\",\"ticks\":\"\",\"title\":{\"standoff\":15},\"zerolinecolor\":\"white\",\"zerolinewidth\":2},\"yaxis\":{\"automargin\":true,\"gridcolor\":\"white\",\"linecolor\":\"white\",\"ticks\":\"\",\"title\":{\"standoff\":15},\"zerolinecolor\":\"white\",\"zerolinewidth\":2}}},\"xaxis\":{\"anchor\":\"y\",\"domain\":[0.0,1.0],\"title\":{\"text\":\"AGE\"}},\"yaxis\":{\"anchor\":\"x\",\"domain\":[0.0,1.0],\"title\":{\"text\":\"count\"}},\"legend\":{\"title\":{\"text\":\"GENRE\"},\"tracegroupgap\":0},\"margin\":{\"t\":60},\"barmode\":\"relative\"},                        {\"responsive\": true}                    ).then(function(){\n",
       "                            \n",
       "var gd = document.getElementById('2735da97-b8ff-4745-b109-c609452e7f08');\n",
       "var x = new MutationObserver(function (mutations, observer) {{\n",
       "        var display = window.getComputedStyle(gd).display;\n",
       "        if (!display || display === 'none') {{\n",
       "            console.log([gd, 'removed!']);\n",
       "            Plotly.purge(gd);\n",
       "            observer.disconnect();\n",
       "        }}\n",
       "}});\n",
       "\n",
       "// Listen for the removal of the full notebook cells\n",
       "var notebookContainer = gd.closest('#notebook-container');\n",
       "if (notebookContainer) {{\n",
       "    x.observe(notebookContainer, {childList: true});\n",
       "}}\n",
       "\n",
       "// Listen for the clearing of the current output cell\n",
       "var outputEl = gd.closest('.output');\n",
       "if (outputEl) {{\n",
       "    x.observe(outputEl, {childList: true});\n",
       "}}\n",
       "\n",
       "                        })                };                });            </script>        </div>"
      ]
     },
     "metadata": {},
     "output_type": "display_data"
    }
   ],
   "source": [
    "px.histogram(new_database, x='AGE', color='GENRE')"
   ]
  },
  {
   "cell_type": "code",
   "execution_count": 130,
   "id": "e6b7f130",
   "metadata": {},
   "outputs": [
    {
     "data": {
      "text/html": [
       "<div>\n",
       "<style scoped>\n",
       "    .dataframe tbody tr th:only-of-type {\n",
       "        vertical-align: middle;\n",
       "    }\n",
       "\n",
       "    .dataframe tbody tr th {\n",
       "        vertical-align: top;\n",
       "    }\n",
       "\n",
       "    .dataframe thead th {\n",
       "        text-align: right;\n",
       "    }\n",
       "</style>\n",
       "<table border=\"1\" class=\"dataframe\">\n",
       "  <thead>\n",
       "    <tr style=\"text-align: right;\">\n",
       "      <th></th>\n",
       "      <th>SUBJID</th>\n",
       "      <th>D_INCLUSION</th>\n",
       "      <th>ID_MRI</th>\n",
       "      <th>GENRE</th>\n",
       "      <th>SEXE</th>\n",
       "      <th>DDN</th>\n",
       "      <th>AGE</th>\n",
       "      <th>NB_AN_SCOL</th>\n",
       "      <th>INFARCT_VOL T1space GK cm3</th>\n",
       "      <th>INFARCT_VOL T1space GK %</th>\n",
       "      <th>...</th>\n",
       "      <th>Right-HypoThal-noMB</th>\n",
       "      <th>Left-Fornix</th>\n",
       "      <th>Right-Fornix</th>\n",
       "      <th>Left-MammillaryBody</th>\n",
       "      <th>Right-MammillaryBody</th>\n",
       "      <th>Left-Basal-Forebrain</th>\n",
       "      <th>Right-Basal-Forebrain</th>\n",
       "      <th>Left-SeptalNuc</th>\n",
       "      <th>Right-SeptalNuc</th>\n",
       "      <th>ses</th>\n",
       "    </tr>\n",
       "  </thead>\n",
       "  <tbody>\n",
       "    <tr>\n",
       "      <th>0</th>\n",
       "      <td>L003</td>\n",
       "      <td>04/02/2010</td>\n",
       "      <td>571216AT</td>\n",
       "      <td>M</td>\n",
       "      <td>1</td>\n",
       "      <td>16/12/1957</td>\n",
       "      <td>52</td>\n",
       "      <td>9</td>\n",
       "      <td>6.370541</td>\n",
       "      <td>0.481525</td>\n",
       "      <td>...</td>\n",
       "      <td>471.5518</td>\n",
       "      <td>416.1111</td>\n",
       "      <td>573.5684</td>\n",
       "      <td>49.4852</td>\n",
       "      <td>55.6321</td>\n",
       "      <td>334.0451</td>\n",
       "      <td>341.2164</td>\n",
       "      <td>118.3672</td>\n",
       "      <td>112.9076</td>\n",
       "      <td>1</td>\n",
       "    </tr>\n",
       "    <tr>\n",
       "      <th>1</th>\n",
       "      <td>L003</td>\n",
       "      <td>04/02/2010</td>\n",
       "      <td>571216AT</td>\n",
       "      <td>M</td>\n",
       "      <td>1</td>\n",
       "      <td>16/12/1957</td>\n",
       "      <td>52</td>\n",
       "      <td>9</td>\n",
       "      <td>6.370541</td>\n",
       "      <td>0.481525</td>\n",
       "      <td>...</td>\n",
       "      <td>473.8978</td>\n",
       "      <td>402.4113</td>\n",
       "      <td>576.8759</td>\n",
       "      <td>43.6625</td>\n",
       "      <td>53.1986</td>\n",
       "      <td>288.8367</td>\n",
       "      <td>349.1452</td>\n",
       "      <td>108.4509</td>\n",
       "      <td>105.6130</td>\n",
       "      <td>2</td>\n",
       "    </tr>\n",
       "    <tr>\n",
       "      <th>2</th>\n",
       "      <td>L003</td>\n",
       "      <td>04/02/2010</td>\n",
       "      <td>571216AT</td>\n",
       "      <td>M</td>\n",
       "      <td>1</td>\n",
       "      <td>16/12/1957</td>\n",
       "      <td>52</td>\n",
       "      <td>9</td>\n",
       "      <td>6.370541</td>\n",
       "      <td>0.481525</td>\n",
       "      <td>...</td>\n",
       "      <td>388.4230</td>\n",
       "      <td>195.9639</td>\n",
       "      <td>328.9065</td>\n",
       "      <td>42.3111</td>\n",
       "      <td>53.9396</td>\n",
       "      <td>242.8908</td>\n",
       "      <td>260.1811</td>\n",
       "      <td>116.3226</td>\n",
       "      <td>95.6259</td>\n",
       "      <td>3</td>\n",
       "    </tr>\n",
       "    <tr>\n",
       "      <th>3</th>\n",
       "      <td>L007</td>\n",
       "      <td>25/02/2010</td>\n",
       "      <td>640425SV</td>\n",
       "      <td>F</td>\n",
       "      <td>0</td>\n",
       "      <td>25/04/1964</td>\n",
       "      <td>45</td>\n",
       "      <td>12</td>\n",
       "      <td>9.354000</td>\n",
       "      <td>0.784876</td>\n",
       "      <td>...</td>\n",
       "      <td>384.6268</td>\n",
       "      <td>418.6462</td>\n",
       "      <td>427.7448</td>\n",
       "      <td>52.7931</td>\n",
       "      <td>51.8725</td>\n",
       "      <td>255.2291</td>\n",
       "      <td>296.1764</td>\n",
       "      <td>97.2570</td>\n",
       "      <td>86.9364</td>\n",
       "      <td>1</td>\n",
       "    </tr>\n",
       "    <tr>\n",
       "      <th>4</th>\n",
       "      <td>L012</td>\n",
       "      <td>15/03/2010</td>\n",
       "      <td>691229DB</td>\n",
       "      <td>M</td>\n",
       "      <td>1</td>\n",
       "      <td>29/12/1969</td>\n",
       "      <td>40</td>\n",
       "      <td>10</td>\n",
       "      <td>31.404168</td>\n",
       "      <td>2.060195</td>\n",
       "      <td>...</td>\n",
       "      <td>517.8260</td>\n",
       "      <td>570.1716</td>\n",
       "      <td>412.8373</td>\n",
       "      <td>57.0824</td>\n",
       "      <td>57.4625</td>\n",
       "      <td>309.6815</td>\n",
       "      <td>357.9673</td>\n",
       "      <td>113.6432</td>\n",
       "      <td>97.9317</td>\n",
       "      <td>1</td>\n",
       "    </tr>\n",
       "    <tr>\n",
       "      <th>...</th>\n",
       "      <td>...</td>\n",
       "      <td>...</td>\n",
       "      <td>...</td>\n",
       "      <td>...</td>\n",
       "      <td>...</td>\n",
       "      <td>...</td>\n",
       "      <td>...</td>\n",
       "      <td>...</td>\n",
       "      <td>...</td>\n",
       "      <td>...</td>\n",
       "      <td>...</td>\n",
       "      <td>...</td>\n",
       "      <td>...</td>\n",
       "      <td>...</td>\n",
       "      <td>...</td>\n",
       "      <td>...</td>\n",
       "      <td>...</td>\n",
       "      <td>...</td>\n",
       "      <td>...</td>\n",
       "      <td>...</td>\n",
       "      <td>...</td>\n",
       "    </tr>\n",
       "    <tr>\n",
       "      <th>110</th>\n",
       "      <td>L197</td>\n",
       "      <td>25/09/2015</td>\n",
       "      <td>640107GB</td>\n",
       "      <td>M</td>\n",
       "      <td>1</td>\n",
       "      <td>07/01/1964</td>\n",
       "      <td>51</td>\n",
       "      <td>9</td>\n",
       "      <td>62.299836</td>\n",
       "      <td>3.902570</td>\n",
       "      <td>...</td>\n",
       "      <td>462.5803</td>\n",
       "      <td>511.9697</td>\n",
       "      <td>573.4288</td>\n",
       "      <td>41.9810</td>\n",
       "      <td>57.7497</td>\n",
       "      <td>304.0457</td>\n",
       "      <td>356.7096</td>\n",
       "      <td>130.4705</td>\n",
       "      <td>114.3635</td>\n",
       "      <td>2</td>\n",
       "    </tr>\n",
       "    <tr>\n",
       "      <th>111</th>\n",
       "      <td>L197</td>\n",
       "      <td>25/09/2015</td>\n",
       "      <td>640107GB</td>\n",
       "      <td>M</td>\n",
       "      <td>1</td>\n",
       "      <td>07/01/1964</td>\n",
       "      <td>51</td>\n",
       "      <td>9</td>\n",
       "      <td>62.299836</td>\n",
       "      <td>3.902570</td>\n",
       "      <td>...</td>\n",
       "      <td>436.4105</td>\n",
       "      <td>513.3054</td>\n",
       "      <td>554.9717</td>\n",
       "      <td>50.7349</td>\n",
       "      <td>61.3595</td>\n",
       "      <td>269.4730</td>\n",
       "      <td>325.6717</td>\n",
       "      <td>130.3613</td>\n",
       "      <td>124.4484</td>\n",
       "      <td>3</td>\n",
       "    </tr>\n",
       "    <tr>\n",
       "      <th>112</th>\n",
       "      <td>L203</td>\n",
       "      <td>09/12/2015</td>\n",
       "      <td>661117OP</td>\n",
       "      <td>M</td>\n",
       "      <td>1</td>\n",
       "      <td>17/11/1966</td>\n",
       "      <td>49</td>\n",
       "      <td>11</td>\n",
       "      <td>0.557994</td>\n",
       "      <td>0.036035</td>\n",
       "      <td>...</td>\n",
       "      <td>420.8193</td>\n",
       "      <td>617.8773</td>\n",
       "      <td>547.1752</td>\n",
       "      <td>57.1557</td>\n",
       "      <td>63.8007</td>\n",
       "      <td>246.9631</td>\n",
       "      <td>342.1826</td>\n",
       "      <td>134.1788</td>\n",
       "      <td>111.7049</td>\n",
       "      <td>1</td>\n",
       "    </tr>\n",
       "    <tr>\n",
       "      <th>113</th>\n",
       "      <td>L203</td>\n",
       "      <td>09/12/2015</td>\n",
       "      <td>661117OP</td>\n",
       "      <td>M</td>\n",
       "      <td>1</td>\n",
       "      <td>17/11/1966</td>\n",
       "      <td>49</td>\n",
       "      <td>11</td>\n",
       "      <td>0.557994</td>\n",
       "      <td>0.036035</td>\n",
       "      <td>...</td>\n",
       "      <td>426.9583</td>\n",
       "      <td>597.6527</td>\n",
       "      <td>472.7740</td>\n",
       "      <td>64.1641</td>\n",
       "      <td>66.3015</td>\n",
       "      <td>241.5047</td>\n",
       "      <td>301.7665</td>\n",
       "      <td>129.2784</td>\n",
       "      <td>104.4204</td>\n",
       "      <td>2</td>\n",
       "    </tr>\n",
       "    <tr>\n",
       "      <th>114</th>\n",
       "      <td>L203</td>\n",
       "      <td>09/12/2015</td>\n",
       "      <td>661117OP</td>\n",
       "      <td>M</td>\n",
       "      <td>1</td>\n",
       "      <td>17/11/1966</td>\n",
       "      <td>49</td>\n",
       "      <td>11</td>\n",
       "      <td>0.557994</td>\n",
       "      <td>0.036035</td>\n",
       "      <td>...</td>\n",
       "      <td>400.1184</td>\n",
       "      <td>615.9411</td>\n",
       "      <td>527.2911</td>\n",
       "      <td>60.8210</td>\n",
       "      <td>70.6068</td>\n",
       "      <td>242.1165</td>\n",
       "      <td>311.0001</td>\n",
       "      <td>133.2033</td>\n",
       "      <td>112.2768</td>\n",
       "      <td>3</td>\n",
       "    </tr>\n",
       "  </tbody>\n",
       "</table>\n",
       "<p>115 rows × 30 columns</p>\n",
       "</div>"
      ],
      "text/plain": [
       "    SUBJID D_INCLUSION    ID_MRI GENRE  SEXE         DDN  AGE  NB_AN_SCOL  \\\n",
       "0     L003  04/02/2010  571216AT     M     1  16/12/1957   52           9   \n",
       "1     L003  04/02/2010  571216AT     M     1  16/12/1957   52           9   \n",
       "2     L003  04/02/2010  571216AT     M     1  16/12/1957   52           9   \n",
       "3     L007  25/02/2010  640425SV     F     0  25/04/1964   45          12   \n",
       "4     L012  15/03/2010  691229DB     M     1  29/12/1969   40          10   \n",
       "..     ...         ...       ...   ...   ...         ...  ...         ...   \n",
       "110   L197  25/09/2015  640107GB     M     1  07/01/1964   51           9   \n",
       "111   L197  25/09/2015  640107GB     M     1  07/01/1964   51           9   \n",
       "112   L203  09/12/2015  661117OP     M     1  17/11/1966   49          11   \n",
       "113   L203  09/12/2015  661117OP     M     1  17/11/1966   49          11   \n",
       "114   L203  09/12/2015  661117OP     M     1  17/11/1966   49          11   \n",
       "\n",
       "     INFARCT_VOL T1space GK cm3  INFARCT_VOL T1space GK %  ...  \\\n",
       "0                      6.370541                  0.481525  ...   \n",
       "1                      6.370541                  0.481525  ...   \n",
       "2                      6.370541                  0.481525  ...   \n",
       "3                      9.354000                  0.784876  ...   \n",
       "4                     31.404168                  2.060195  ...   \n",
       "..                          ...                       ...  ...   \n",
       "110                   62.299836                  3.902570  ...   \n",
       "111                   62.299836                  3.902570  ...   \n",
       "112                    0.557994                  0.036035  ...   \n",
       "113                    0.557994                  0.036035  ...   \n",
       "114                    0.557994                  0.036035  ...   \n",
       "\n",
       "     Right-HypoThal-noMB  Left-Fornix  Right-Fornix  Left-MammillaryBody  \\\n",
       "0               471.5518     416.1111      573.5684              49.4852   \n",
       "1               473.8978     402.4113      576.8759              43.6625   \n",
       "2               388.4230     195.9639      328.9065              42.3111   \n",
       "3               384.6268     418.6462      427.7448              52.7931   \n",
       "4               517.8260     570.1716      412.8373              57.0824   \n",
       "..                   ...          ...           ...                  ...   \n",
       "110             462.5803     511.9697      573.4288              41.9810   \n",
       "111             436.4105     513.3054      554.9717              50.7349   \n",
       "112             420.8193     617.8773      547.1752              57.1557   \n",
       "113             426.9583     597.6527      472.7740              64.1641   \n",
       "114             400.1184     615.9411      527.2911              60.8210   \n",
       "\n",
       "     Right-MammillaryBody  Left-Basal-Forebrain Right-Basal-Forebrain  \\\n",
       "0                 55.6321              334.0451              341.2164   \n",
       "1                 53.1986              288.8367              349.1452   \n",
       "2                 53.9396              242.8908              260.1811   \n",
       "3                 51.8725              255.2291              296.1764   \n",
       "4                 57.4625              309.6815              357.9673   \n",
       "..                    ...                   ...                   ...   \n",
       "110               57.7497              304.0457              356.7096   \n",
       "111               61.3595              269.4730              325.6717   \n",
       "112               63.8007              246.9631              342.1826   \n",
       "113               66.3015              241.5047              301.7665   \n",
       "114               70.6068              242.1165              311.0001   \n",
       "\n",
       "     Left-SeptalNuc  Right-SeptalNuc  ses  \n",
       "0          118.3672         112.9076    1  \n",
       "1          108.4509         105.6130    2  \n",
       "2          116.3226          95.6259    3  \n",
       "3           97.2570          86.9364    1  \n",
       "4          113.6432          97.9317    1  \n",
       "..              ...              ...  ...  \n",
       "110        130.4705         114.3635    2  \n",
       "111        130.3613         124.4484    3  \n",
       "112        134.1788         111.7049    1  \n",
       "113        129.2784         104.4204    2  \n",
       "114        133.2033         112.2768    3  \n",
       "\n",
       "[115 rows x 30 columns]"
      ]
     },
     "execution_count": 130,
     "metadata": {},
     "output_type": "execute_result"
    }
   ],
   "source": [
    "new_database"
   ]
  },
  {
   "cell_type": "markdown",
   "id": "7df307ce",
   "metadata": {},
   "source": [
    "### Age / Disease evolution"
   ]
  },
  {
   "cell_type": "markdown",
   "id": "c43ec528",
   "metadata": {},
   "source": [
    "Classify the level of disease using MOCA J7 score: \n",
    "- < 10: severe, level 3\n",
    "- in [10, 17]: moderate, level 2\n",
    "- in [18, 25]: mild, level 1\n",
    "- in > 26: no disease, level 0"
   ]
  },
  {
   "cell_type": "code",
   "execution_count": 133,
   "id": "2983a5b3",
   "metadata": {},
   "outputs": [],
   "source": [
    "def level_MOCA(x):\n",
    "    x = float(x)\n",
    "    if x < 10:\n",
    "        return 3\n",
    "    elif 10 <= x < 17:\n",
    "        return 2\n",
    "    elif 18 <= x < 25:\n",
    "        return 1\n",
    "    else:\n",
    "        return 0"
   ]
  },
  {
   "cell_type": "code",
   "execution_count": 138,
   "id": "d783991f",
   "metadata": {},
   "outputs": [
    {
     "data": {
      "text/html": [
       "<div>\n",
       "<style scoped>\n",
       "    .dataframe tbody tr th:only-of-type {\n",
       "        vertical-align: middle;\n",
       "    }\n",
       "\n",
       "    .dataframe tbody tr th {\n",
       "        vertical-align: top;\n",
       "    }\n",
       "\n",
       "    .dataframe thead th {\n",
       "        text-align: right;\n",
       "    }\n",
       "</style>\n",
       "<table border=\"1\" class=\"dataframe\">\n",
       "  <thead>\n",
       "    <tr style=\"text-align: right;\">\n",
       "      <th></th>\n",
       "      <th>SUBJID</th>\n",
       "      <th>D_INCLUSION</th>\n",
       "      <th>ID_MRI</th>\n",
       "      <th>GENRE</th>\n",
       "      <th>SEXE</th>\n",
       "      <th>DDN</th>\n",
       "      <th>AGE</th>\n",
       "      <th>NB_AN_SCOL</th>\n",
       "      <th>INFARCT_VOL T1space GK cm3</th>\n",
       "      <th>INFARCT_VOL T1space GK %</th>\n",
       "      <th>...</th>\n",
       "      <th>Left-Fornix</th>\n",
       "      <th>Right-Fornix</th>\n",
       "      <th>Left-MammillaryBody</th>\n",
       "      <th>Right-MammillaryBody</th>\n",
       "      <th>Left-Basal-Forebrain</th>\n",
       "      <th>Right-Basal-Forebrain</th>\n",
       "      <th>Left-SeptalNuc</th>\n",
       "      <th>Right-SeptalNuc</th>\n",
       "      <th>ses</th>\n",
       "      <th>level_MOCA</th>\n",
       "    </tr>\n",
       "  </thead>\n",
       "  <tbody>\n",
       "    <tr>\n",
       "      <th>2</th>\n",
       "      <td>L003</td>\n",
       "      <td>04/02/2010</td>\n",
       "      <td>571216AT</td>\n",
       "      <td>M</td>\n",
       "      <td>1</td>\n",
       "      <td>16/12/1957</td>\n",
       "      <td>52</td>\n",
       "      <td>9</td>\n",
       "      <td>6.370541</td>\n",
       "      <td>0.481525</td>\n",
       "      <td>...</td>\n",
       "      <td>195.9639</td>\n",
       "      <td>328.9065</td>\n",
       "      <td>42.3111</td>\n",
       "      <td>53.9396</td>\n",
       "      <td>242.8908</td>\n",
       "      <td>260.1811</td>\n",
       "      <td>116.3226</td>\n",
       "      <td>95.6259</td>\n",
       "      <td>3</td>\n",
       "      <td>0</td>\n",
       "    </tr>\n",
       "    <tr>\n",
       "      <th>11</th>\n",
       "      <td>L027</td>\n",
       "      <td>21/06/2010</td>\n",
       "      <td>580620CG</td>\n",
       "      <td>F</td>\n",
       "      <td>0</td>\n",
       "      <td>20/06/1958</td>\n",
       "      <td>52</td>\n",
       "      <td>10</td>\n",
       "      <td>0.330001</td>\n",
       "      <td>0.025272</td>\n",
       "      <td>...</td>\n",
       "      <td>490.8115</td>\n",
       "      <td>407.1844</td>\n",
       "      <td>47.2381</td>\n",
       "      <td>50.3561</td>\n",
       "      <td>194.7772</td>\n",
       "      <td>284.9810</td>\n",
       "      <td>70.2976</td>\n",
       "      <td>75.9522</td>\n",
       "      <td>3</td>\n",
       "      <td>0</td>\n",
       "    </tr>\n",
       "    <tr>\n",
       "      <th>14</th>\n",
       "      <td>L033</td>\n",
       "      <td>23/09/2010</td>\n",
       "      <td>581002PR</td>\n",
       "      <td>M</td>\n",
       "      <td>1</td>\n",
       "      <td>02/10/1958</td>\n",
       "      <td>51</td>\n",
       "      <td>10</td>\n",
       "      <td>2.059000</td>\n",
       "      <td>0.144064</td>\n",
       "      <td>...</td>\n",
       "      <td>478.1561</td>\n",
       "      <td>425.1167</td>\n",
       "      <td>54.3069</td>\n",
       "      <td>57.5464</td>\n",
       "      <td>244.7523</td>\n",
       "      <td>274.5210</td>\n",
       "      <td>111.8815</td>\n",
       "      <td>98.7583</td>\n",
       "      <td>3</td>\n",
       "      <td>0</td>\n",
       "    </tr>\n",
       "    <tr>\n",
       "      <th>22</th>\n",
       "      <td>L067</td>\n",
       "      <td>21/06/2011</td>\n",
       "      <td>670806JPP</td>\n",
       "      <td>M</td>\n",
       "      <td>1</td>\n",
       "      <td>06/08/1967</td>\n",
       "      <td>43</td>\n",
       "      <td>10</td>\n",
       "      <td>22.688000</td>\n",
       "      <td>1.468032</td>\n",
       "      <td>...</td>\n",
       "      <td>482.7034</td>\n",
       "      <td>427.1277</td>\n",
       "      <td>45.3659</td>\n",
       "      <td>58.1001</td>\n",
       "      <td>249.7675</td>\n",
       "      <td>290.2650</td>\n",
       "      <td>115.8032</td>\n",
       "      <td>95.7083</td>\n",
       "      <td>3</td>\n",
       "      <td>0</td>\n",
       "    </tr>\n",
       "    <tr>\n",
       "      <th>25</th>\n",
       "      <td>L068</td>\n",
       "      <td>21/06/2011</td>\n",
       "      <td>610612HV</td>\n",
       "      <td>M</td>\n",
       "      <td>1</td>\n",
       "      <td>12/06/1961</td>\n",
       "      <td>50</td>\n",
       "      <td>12</td>\n",
       "      <td>5.656000</td>\n",
       "      <td>0.369689</td>\n",
       "      <td>...</td>\n",
       "      <td>145.0812</td>\n",
       "      <td>68.1199</td>\n",
       "      <td>42.0494</td>\n",
       "      <td>43.1524</td>\n",
       "      <td>33.9639</td>\n",
       "      <td>88.7905</td>\n",
       "      <td>97.1142</td>\n",
       "      <td>72.2260</td>\n",
       "      <td>3</td>\n",
       "      <td>0</td>\n",
       "    </tr>\n",
       "    <tr>\n",
       "      <th>31</th>\n",
       "      <td>L080</td>\n",
       "      <td>26/07/2011</td>\n",
       "      <td>600816JLS</td>\n",
       "      <td>M</td>\n",
       "      <td>1</td>\n",
       "      <td>16/08/1960</td>\n",
       "      <td>50</td>\n",
       "      <td>11</td>\n",
       "      <td>2.642000</td>\n",
       "      <td>0.202273</td>\n",
       "      <td>...</td>\n",
       "      <td>280.9860</td>\n",
       "      <td>305.9940</td>\n",
       "      <td>51.5519</td>\n",
       "      <td>56.2784</td>\n",
       "      <td>243.8131</td>\n",
       "      <td>222.3906</td>\n",
       "      <td>84.9432</td>\n",
       "      <td>84.4607</td>\n",
       "      <td>3</td>\n",
       "      <td>0</td>\n",
       "    </tr>\n",
       "    <tr>\n",
       "      <th>34</th>\n",
       "      <td>L082</td>\n",
       "      <td>02/08/2011</td>\n",
       "      <td>600506GH</td>\n",
       "      <td>M</td>\n",
       "      <td>1</td>\n",
       "      <td>06/05/1960</td>\n",
       "      <td>51</td>\n",
       "      <td>13</td>\n",
       "      <td>2.758000</td>\n",
       "      <td>0.184573</td>\n",
       "      <td>...</td>\n",
       "      <td>516.0687</td>\n",
       "      <td>390.5955</td>\n",
       "      <td>60.9486</td>\n",
       "      <td>64.4071</td>\n",
       "      <td>223.0329</td>\n",
       "      <td>289.4993</td>\n",
       "      <td>128.9227</td>\n",
       "      <td>114.9198</td>\n",
       "      <td>3</td>\n",
       "      <td>0</td>\n",
       "    </tr>\n",
       "    <tr>\n",
       "      <th>39</th>\n",
       "      <td>L093</td>\n",
       "      <td>09/11/2011</td>\n",
       "      <td>720501GL</td>\n",
       "      <td>M</td>\n",
       "      <td>1</td>\n",
       "      <td>01/05/1972</td>\n",
       "      <td>39</td>\n",
       "      <td>20</td>\n",
       "      <td>4.076000</td>\n",
       "      <td>0.268955</td>\n",
       "      <td>...</td>\n",
       "      <td>427.3675</td>\n",
       "      <td>358.8207</td>\n",
       "      <td>49.6042</td>\n",
       "      <td>59.4350</td>\n",
       "      <td>129.2661</td>\n",
       "      <td>195.5455</td>\n",
       "      <td>89.7698</td>\n",
       "      <td>81.1368</td>\n",
       "      <td>3</td>\n",
       "      <td>0</td>\n",
       "    </tr>\n",
       "    <tr>\n",
       "      <th>46</th>\n",
       "      <td>L104</td>\n",
       "      <td>27/03/2012</td>\n",
       "      <td>731001LC</td>\n",
       "      <td>M</td>\n",
       "      <td>1</td>\n",
       "      <td>01/10/1973</td>\n",
       "      <td>38</td>\n",
       "      <td>20</td>\n",
       "      <td>1.743000</td>\n",
       "      <td>0.124134</td>\n",
       "      <td>...</td>\n",
       "      <td>342.2281</td>\n",
       "      <td>254.4100</td>\n",
       "      <td>60.5701</td>\n",
       "      <td>61.6037</td>\n",
       "      <td>65.8425</td>\n",
       "      <td>156.8986</td>\n",
       "      <td>85.7487</td>\n",
       "      <td>77.7466</td>\n",
       "      <td>3</td>\n",
       "      <td>0</td>\n",
       "    </tr>\n",
       "    <tr>\n",
       "      <th>49</th>\n",
       "      <td>L106</td>\n",
       "      <td>29/03/2012</td>\n",
       "      <td>561230PV</td>\n",
       "      <td>M</td>\n",
       "      <td>1</td>\n",
       "      <td>30/12/1956</td>\n",
       "      <td>55</td>\n",
       "      <td>14</td>\n",
       "      <td>11.117942</td>\n",
       "      <td>0.781315</td>\n",
       "      <td>...</td>\n",
       "      <td>212.6338</td>\n",
       "      <td>255.5058</td>\n",
       "      <td>46.0859</td>\n",
       "      <td>61.7726</td>\n",
       "      <td>157.5004</td>\n",
       "      <td>228.8239</td>\n",
       "      <td>90.5746</td>\n",
       "      <td>86.4208</td>\n",
       "      <td>3</td>\n",
       "      <td>0</td>\n",
       "    </tr>\n",
       "    <tr>\n",
       "      <th>52</th>\n",
       "      <td>L119</td>\n",
       "      <td>05/07/2012</td>\n",
       "      <td>630418CM</td>\n",
       "      <td>F</td>\n",
       "      <td>0</td>\n",
       "      <td>18/04/1963</td>\n",
       "      <td>49</td>\n",
       "      <td>10</td>\n",
       "      <td>1.978985</td>\n",
       "      <td>0.133138</td>\n",
       "      <td>...</td>\n",
       "      <td>585.3578</td>\n",
       "      <td>504.0008</td>\n",
       "      <td>57.0051</td>\n",
       "      <td>56.3297</td>\n",
       "      <td>323.8924</td>\n",
       "      <td>368.8578</td>\n",
       "      <td>132.5230</td>\n",
       "      <td>109.2558</td>\n",
       "      <td>3</td>\n",
       "      <td>0</td>\n",
       "    </tr>\n",
       "    <tr>\n",
       "      <th>57</th>\n",
       "      <td>L135</td>\n",
       "      <td>04/04/2013</td>\n",
       "      <td>580714PF</td>\n",
       "      <td>M</td>\n",
       "      <td>1</td>\n",
       "      <td>14/07/1958</td>\n",
       "      <td>54</td>\n",
       "      <td>10</td>\n",
       "      <td>1.731980</td>\n",
       "      <td>0.113958</td>\n",
       "      <td>...</td>\n",
       "      <td>437.0037</td>\n",
       "      <td>411.3896</td>\n",
       "      <td>60.4255</td>\n",
       "      <td>66.0062</td>\n",
       "      <td>295.3334</td>\n",
       "      <td>271.6256</td>\n",
       "      <td>136.0647</td>\n",
       "      <td>125.4359</td>\n",
       "      <td>3</td>\n",
       "      <td>0</td>\n",
       "    </tr>\n",
       "    <tr>\n",
       "      <th>62</th>\n",
       "      <td>L140</td>\n",
       "      <td>28/05/2013</td>\n",
       "      <td>671019NL</td>\n",
       "      <td>F</td>\n",
       "      <td>0</td>\n",
       "      <td>19/10/1967</td>\n",
       "      <td>45</td>\n",
       "      <td>10</td>\n",
       "      <td>1.902003</td>\n",
       "      <td>0.152211</td>\n",
       "      <td>...</td>\n",
       "      <td>425.7082</td>\n",
       "      <td>380.7329</td>\n",
       "      <td>44.9732</td>\n",
       "      <td>51.9161</td>\n",
       "      <td>251.6153</td>\n",
       "      <td>262.4567</td>\n",
       "      <td>87.3933</td>\n",
       "      <td>84.2558</td>\n",
       "      <td>3</td>\n",
       "      <td>0</td>\n",
       "    </tr>\n",
       "    <tr>\n",
       "      <th>65</th>\n",
       "      <td>L147</td>\n",
       "      <td>05/08/2013</td>\n",
       "      <td>690526CR</td>\n",
       "      <td>M</td>\n",
       "      <td>1</td>\n",
       "      <td>26/05/1969</td>\n",
       "      <td>44</td>\n",
       "      <td>10</td>\n",
       "      <td>15.403000</td>\n",
       "      <td>1.001102</td>\n",
       "      <td>...</td>\n",
       "      <td>466.9739</td>\n",
       "      <td>539.9122</td>\n",
       "      <td>65.1077</td>\n",
       "      <td>65.1953</td>\n",
       "      <td>252.4299</td>\n",
       "      <td>319.4396</td>\n",
       "      <td>112.3476</td>\n",
       "      <td>108.1611</td>\n",
       "      <td>3</td>\n",
       "      <td>0</td>\n",
       "    </tr>\n",
       "    <tr>\n",
       "      <th>70</th>\n",
       "      <td>L150</td>\n",
       "      <td>12/08/2013</td>\n",
       "      <td>810305BB</td>\n",
       "      <td>F</td>\n",
       "      <td>0</td>\n",
       "      <td>05/03/1981</td>\n",
       "      <td>32</td>\n",
       "      <td>17</td>\n",
       "      <td>7.977000</td>\n",
       "      <td>0.557544</td>\n",
       "      <td>...</td>\n",
       "      <td>495.9991</td>\n",
       "      <td>385.4138</td>\n",
       "      <td>51.2931</td>\n",
       "      <td>57.5805</td>\n",
       "      <td>210.9359</td>\n",
       "      <td>281.9807</td>\n",
       "      <td>102.8124</td>\n",
       "      <td>97.9356</td>\n",
       "      <td>3</td>\n",
       "      <td>0</td>\n",
       "    </tr>\n",
       "    <tr>\n",
       "      <th>75</th>\n",
       "      <td>L154</td>\n",
       "      <td>23/10/2013</td>\n",
       "      <td>840909AD</td>\n",
       "      <td>F</td>\n",
       "      <td>0</td>\n",
       "      <td>09/09/1984</td>\n",
       "      <td>29</td>\n",
       "      <td>12</td>\n",
       "      <td>NaN</td>\n",
       "      <td>NaN</td>\n",
       "      <td>...</td>\n",
       "      <td>494.3750</td>\n",
       "      <td>394.3424</td>\n",
       "      <td>53.7393</td>\n",
       "      <td>54.6239</td>\n",
       "      <td>294.2897</td>\n",
       "      <td>299.6799</td>\n",
       "      <td>99.5165</td>\n",
       "      <td>98.0320</td>\n",
       "      <td>3</td>\n",
       "      <td>0</td>\n",
       "    </tr>\n",
       "    <tr>\n",
       "      <th>78</th>\n",
       "      <td>L155</td>\n",
       "      <td>12/11/2013</td>\n",
       "      <td>690510ND</td>\n",
       "      <td>F</td>\n",
       "      <td>0</td>\n",
       "      <td>10/05/1969</td>\n",
       "      <td>44</td>\n",
       "      <td>8</td>\n",
       "      <td>14.232984</td>\n",
       "      <td>1.173824</td>\n",
       "      <td>...</td>\n",
       "      <td>537.1555</td>\n",
       "      <td>498.2993</td>\n",
       "      <td>54.2566</td>\n",
       "      <td>54.4170</td>\n",
       "      <td>271.6938</td>\n",
       "      <td>281.8019</td>\n",
       "      <td>113.1072</td>\n",
       "      <td>98.5452</td>\n",
       "      <td>3</td>\n",
       "      <td>0</td>\n",
       "    </tr>\n",
       "    <tr>\n",
       "      <th>81</th>\n",
       "      <td>L159</td>\n",
       "      <td>22/01/2014</td>\n",
       "      <td>670213PC</td>\n",
       "      <td>M</td>\n",
       "      <td>1</td>\n",
       "      <td>13/02/1967</td>\n",
       "      <td>46</td>\n",
       "      <td>10</td>\n",
       "      <td>0.146999</td>\n",
       "      <td>0.015679</td>\n",
       "      <td>...</td>\n",
       "      <td>422.8991</td>\n",
       "      <td>410.5819</td>\n",
       "      <td>53.7959</td>\n",
       "      <td>57.8044</td>\n",
       "      <td>209.4627</td>\n",
       "      <td>276.7335</td>\n",
       "      <td>98.8982</td>\n",
       "      <td>96.4942</td>\n",
       "      <td>3</td>\n",
       "      <td>0</td>\n",
       "    </tr>\n",
       "    <tr>\n",
       "      <th>84</th>\n",
       "      <td>L161</td>\n",
       "      <td>11/03/2014</td>\n",
       "      <td>601224NLL</td>\n",
       "      <td>M</td>\n",
       "      <td>1</td>\n",
       "      <td>24/12/1960</td>\n",
       "      <td>53</td>\n",
       "      <td>14</td>\n",
       "      <td>22.514926</td>\n",
       "      <td>1.342507</td>\n",
       "      <td>...</td>\n",
       "      <td>540.5487</td>\n",
       "      <td>561.0497</td>\n",
       "      <td>73.2448</td>\n",
       "      <td>84.5417</td>\n",
       "      <td>302.3650</td>\n",
       "      <td>324.6879</td>\n",
       "      <td>159.3084</td>\n",
       "      <td>135.0761</td>\n",
       "      <td>3</td>\n",
       "      <td>0</td>\n",
       "    </tr>\n",
       "    <tr>\n",
       "      <th>91</th>\n",
       "      <td>L170</td>\n",
       "      <td>26/08/2014</td>\n",
       "      <td>630618AF</td>\n",
       "      <td>F</td>\n",
       "      <td>0</td>\n",
       "      <td>18/06/1963</td>\n",
       "      <td>51</td>\n",
       "      <td>14</td>\n",
       "      <td>6.711000</td>\n",
       "      <td>0.641897</td>\n",
       "      <td>...</td>\n",
       "      <td>392.4294</td>\n",
       "      <td>366.6686</td>\n",
       "      <td>42.7662</td>\n",
       "      <td>47.7364</td>\n",
       "      <td>223.6076</td>\n",
       "      <td>205.5991</td>\n",
       "      <td>81.8783</td>\n",
       "      <td>79.1020</td>\n",
       "      <td>3</td>\n",
       "      <td>0</td>\n",
       "    </tr>\n",
       "    <tr>\n",
       "      <th>96</th>\n",
       "      <td>L178</td>\n",
       "      <td>13/11/2014</td>\n",
       "      <td>680930WD</td>\n",
       "      <td>M</td>\n",
       "      <td>1</td>\n",
       "      <td>30/09/1968</td>\n",
       "      <td>46</td>\n",
       "      <td>12</td>\n",
       "      <td>25.236057</td>\n",
       "      <td>1.634887</td>\n",
       "      <td>...</td>\n",
       "      <td>374.8606</td>\n",
       "      <td>360.1799</td>\n",
       "      <td>53.6087</td>\n",
       "      <td>61.7511</td>\n",
       "      <td>227.3308</td>\n",
       "      <td>236.7123</td>\n",
       "      <td>120.4450</td>\n",
       "      <td>116.3566</td>\n",
       "      <td>3</td>\n",
       "      <td>0</td>\n",
       "    </tr>\n",
       "    <tr>\n",
       "      <th>99</th>\n",
       "      <td>L187</td>\n",
       "      <td>12/03/2015</td>\n",
       "      <td>761229PN</td>\n",
       "      <td>M</td>\n",
       "      <td>1</td>\n",
       "      <td>29/12/1976</td>\n",
       "      <td>38</td>\n",
       "      <td>12</td>\n",
       "      <td>16.912953</td>\n",
       "      <td>1.275185</td>\n",
       "      <td>...</td>\n",
       "      <td>510.5725</td>\n",
       "      <td>432.7457</td>\n",
       "      <td>56.3069</td>\n",
       "      <td>68.7545</td>\n",
       "      <td>243.3205</td>\n",
       "      <td>344.0815</td>\n",
       "      <td>109.8991</td>\n",
       "      <td>91.4790</td>\n",
       "      <td>3</td>\n",
       "      <td>0</td>\n",
       "    </tr>\n",
       "    <tr>\n",
       "      <th>104</th>\n",
       "      <td>L189</td>\n",
       "      <td>11/05/2015</td>\n",
       "      <td>611230FJ</td>\n",
       "      <td>M</td>\n",
       "      <td>1</td>\n",
       "      <td>30/12/1961</td>\n",
       "      <td>53</td>\n",
       "      <td>15</td>\n",
       "      <td>0.483000</td>\n",
       "      <td>0.030279</td>\n",
       "      <td>...</td>\n",
       "      <td>510.9537</td>\n",
       "      <td>627.9005</td>\n",
       "      <td>58.9511</td>\n",
       "      <td>63.0349</td>\n",
       "      <td>322.9706</td>\n",
       "      <td>329.3421</td>\n",
       "      <td>132.9261</td>\n",
       "      <td>130.6375</td>\n",
       "      <td>3</td>\n",
       "      <td>0</td>\n",
       "    </tr>\n",
       "    <tr>\n",
       "      <th>108</th>\n",
       "      <td>L196</td>\n",
       "      <td>07/09/2015</td>\n",
       "      <td>620830MF</td>\n",
       "      <td>F</td>\n",
       "      <td>0</td>\n",
       "      <td>30/08/1962</td>\n",
       "      <td>53</td>\n",
       "      <td>20</td>\n",
       "      <td>47.360508</td>\n",
       "      <td>3.965990</td>\n",
       "      <td>...</td>\n",
       "      <td>470.1650</td>\n",
       "      <td>420.6062</td>\n",
       "      <td>52.8821</td>\n",
       "      <td>49.7586</td>\n",
       "      <td>213.0235</td>\n",
       "      <td>213.3637</td>\n",
       "      <td>125.3116</td>\n",
       "      <td>108.2456</td>\n",
       "      <td>3</td>\n",
       "      <td>0</td>\n",
       "    </tr>\n",
       "    <tr>\n",
       "      <th>111</th>\n",
       "      <td>L197</td>\n",
       "      <td>25/09/2015</td>\n",
       "      <td>640107GB</td>\n",
       "      <td>M</td>\n",
       "      <td>1</td>\n",
       "      <td>07/01/1964</td>\n",
       "      <td>51</td>\n",
       "      <td>9</td>\n",
       "      <td>62.299836</td>\n",
       "      <td>3.902570</td>\n",
       "      <td>...</td>\n",
       "      <td>513.3054</td>\n",
       "      <td>554.9717</td>\n",
       "      <td>50.7349</td>\n",
       "      <td>61.3595</td>\n",
       "      <td>269.4730</td>\n",
       "      <td>325.6717</td>\n",
       "      <td>130.3613</td>\n",
       "      <td>124.4484</td>\n",
       "      <td>3</td>\n",
       "      <td>0</td>\n",
       "    </tr>\n",
       "    <tr>\n",
       "      <th>114</th>\n",
       "      <td>L203</td>\n",
       "      <td>09/12/2015</td>\n",
       "      <td>661117OP</td>\n",
       "      <td>M</td>\n",
       "      <td>1</td>\n",
       "      <td>17/11/1966</td>\n",
       "      <td>49</td>\n",
       "      <td>11</td>\n",
       "      <td>0.557994</td>\n",
       "      <td>0.036035</td>\n",
       "      <td>...</td>\n",
       "      <td>615.9411</td>\n",
       "      <td>527.2911</td>\n",
       "      <td>60.8210</td>\n",
       "      <td>70.6068</td>\n",
       "      <td>242.1165</td>\n",
       "      <td>311.0001</td>\n",
       "      <td>133.2033</td>\n",
       "      <td>112.2768</td>\n",
       "      <td>3</td>\n",
       "      <td>0</td>\n",
       "    </tr>\n",
       "  </tbody>\n",
       "</table>\n",
       "<p>26 rows × 31 columns</p>\n",
       "</div>"
      ],
      "text/plain": [
       "    SUBJID D_INCLUSION     ID_MRI GENRE  SEXE         DDN  AGE  NB_AN_SCOL  \\\n",
       "2     L003  04/02/2010   571216AT     M     1  16/12/1957   52           9   \n",
       "11    L027  21/06/2010   580620CG     F     0  20/06/1958   52          10   \n",
       "14    L033  23/09/2010   581002PR     M     1  02/10/1958   51          10   \n",
       "22    L067  21/06/2011  670806JPP     M     1  06/08/1967   43          10   \n",
       "25    L068  21/06/2011   610612HV     M     1  12/06/1961   50          12   \n",
       "31    L080  26/07/2011  600816JLS     M     1  16/08/1960   50          11   \n",
       "34    L082  02/08/2011   600506GH     M     1  06/05/1960   51          13   \n",
       "39    L093  09/11/2011   720501GL     M     1  01/05/1972   39          20   \n",
       "46    L104  27/03/2012   731001LC     M     1  01/10/1973   38          20   \n",
       "49    L106  29/03/2012   561230PV     M     1  30/12/1956   55          14   \n",
       "52    L119  05/07/2012   630418CM     F     0  18/04/1963   49          10   \n",
       "57    L135  04/04/2013   580714PF     M     1  14/07/1958   54          10   \n",
       "62    L140  28/05/2013   671019NL     F     0  19/10/1967   45          10   \n",
       "65    L147  05/08/2013   690526CR     M     1  26/05/1969   44          10   \n",
       "70    L150  12/08/2013   810305BB     F     0  05/03/1981   32          17   \n",
       "75    L154  23/10/2013   840909AD     F     0  09/09/1984   29          12   \n",
       "78    L155  12/11/2013   690510ND     F     0  10/05/1969   44           8   \n",
       "81    L159  22/01/2014   670213PC     M     1  13/02/1967   46          10   \n",
       "84    L161  11/03/2014  601224NLL     M     1  24/12/1960   53          14   \n",
       "91    L170  26/08/2014   630618AF     F     0  18/06/1963   51          14   \n",
       "96    L178  13/11/2014   680930WD     M     1  30/09/1968   46          12   \n",
       "99    L187  12/03/2015   761229PN     M     1  29/12/1976   38          12   \n",
       "104   L189  11/05/2015   611230FJ     M     1  30/12/1961   53          15   \n",
       "108   L196  07/09/2015   620830MF     F     0  30/08/1962   53          20   \n",
       "111   L197  25/09/2015   640107GB     M     1  07/01/1964   51           9   \n",
       "114   L203  09/12/2015   661117OP     M     1  17/11/1966   49          11   \n",
       "\n",
       "     INFARCT_VOL T1space GK cm3  INFARCT_VOL T1space GK %  ...  Left-Fornix  \\\n",
       "2                      6.370541                  0.481525  ...     195.9639   \n",
       "11                     0.330001                  0.025272  ...     490.8115   \n",
       "14                     2.059000                  0.144064  ...     478.1561   \n",
       "22                    22.688000                  1.468032  ...     482.7034   \n",
       "25                     5.656000                  0.369689  ...     145.0812   \n",
       "31                     2.642000                  0.202273  ...     280.9860   \n",
       "34                     2.758000                  0.184573  ...     516.0687   \n",
       "39                     4.076000                  0.268955  ...     427.3675   \n",
       "46                     1.743000                  0.124134  ...     342.2281   \n",
       "49                    11.117942                  0.781315  ...     212.6338   \n",
       "52                     1.978985                  0.133138  ...     585.3578   \n",
       "57                     1.731980                  0.113958  ...     437.0037   \n",
       "62                     1.902003                  0.152211  ...     425.7082   \n",
       "65                    15.403000                  1.001102  ...     466.9739   \n",
       "70                     7.977000                  0.557544  ...     495.9991   \n",
       "75                          NaN                       NaN  ...     494.3750   \n",
       "78                    14.232984                  1.173824  ...     537.1555   \n",
       "81                     0.146999                  0.015679  ...     422.8991   \n",
       "84                    22.514926                  1.342507  ...     540.5487   \n",
       "91                     6.711000                  0.641897  ...     392.4294   \n",
       "96                    25.236057                  1.634887  ...     374.8606   \n",
       "99                    16.912953                  1.275185  ...     510.5725   \n",
       "104                    0.483000                  0.030279  ...     510.9537   \n",
       "108                   47.360508                  3.965990  ...     470.1650   \n",
       "111                   62.299836                  3.902570  ...     513.3054   \n",
       "114                    0.557994                  0.036035  ...     615.9411   \n",
       "\n",
       "     Right-Fornix  Left-MammillaryBody  Right-MammillaryBody  \\\n",
       "2        328.9065              42.3111               53.9396   \n",
       "11       407.1844              47.2381               50.3561   \n",
       "14       425.1167              54.3069               57.5464   \n",
       "22       427.1277              45.3659               58.1001   \n",
       "25        68.1199              42.0494               43.1524   \n",
       "31       305.9940              51.5519               56.2784   \n",
       "34       390.5955              60.9486               64.4071   \n",
       "39       358.8207              49.6042               59.4350   \n",
       "46       254.4100              60.5701               61.6037   \n",
       "49       255.5058              46.0859               61.7726   \n",
       "52       504.0008              57.0051               56.3297   \n",
       "57       411.3896              60.4255               66.0062   \n",
       "62       380.7329              44.9732               51.9161   \n",
       "65       539.9122              65.1077               65.1953   \n",
       "70       385.4138              51.2931               57.5805   \n",
       "75       394.3424              53.7393               54.6239   \n",
       "78       498.2993              54.2566               54.4170   \n",
       "81       410.5819              53.7959               57.8044   \n",
       "84       561.0497              73.2448               84.5417   \n",
       "91       366.6686              42.7662               47.7364   \n",
       "96       360.1799              53.6087               61.7511   \n",
       "99       432.7457              56.3069               68.7545   \n",
       "104      627.9005              58.9511               63.0349   \n",
       "108      420.6062              52.8821               49.7586   \n",
       "111      554.9717              50.7349               61.3595   \n",
       "114      527.2911              60.8210               70.6068   \n",
       "\n",
       "     Left-Basal-Forebrain  Right-Basal-Forebrain Left-SeptalNuc  \\\n",
       "2                242.8908               260.1811       116.3226   \n",
       "11               194.7772               284.9810        70.2976   \n",
       "14               244.7523               274.5210       111.8815   \n",
       "22               249.7675               290.2650       115.8032   \n",
       "25                33.9639                88.7905        97.1142   \n",
       "31               243.8131               222.3906        84.9432   \n",
       "34               223.0329               289.4993       128.9227   \n",
       "39               129.2661               195.5455        89.7698   \n",
       "46                65.8425               156.8986        85.7487   \n",
       "49               157.5004               228.8239        90.5746   \n",
       "52               323.8924               368.8578       132.5230   \n",
       "57               295.3334               271.6256       136.0647   \n",
       "62               251.6153               262.4567        87.3933   \n",
       "65               252.4299               319.4396       112.3476   \n",
       "70               210.9359               281.9807       102.8124   \n",
       "75               294.2897               299.6799        99.5165   \n",
       "78               271.6938               281.8019       113.1072   \n",
       "81               209.4627               276.7335        98.8982   \n",
       "84               302.3650               324.6879       159.3084   \n",
       "91               223.6076               205.5991        81.8783   \n",
       "96               227.3308               236.7123       120.4450   \n",
       "99               243.3205               344.0815       109.8991   \n",
       "104              322.9706               329.3421       132.9261   \n",
       "108              213.0235               213.3637       125.3116   \n",
       "111              269.4730               325.6717       130.3613   \n",
       "114              242.1165               311.0001       133.2033   \n",
       "\n",
       "     Right-SeptalNuc  ses  level_MOCA  \n",
       "2            95.6259    3           0  \n",
       "11           75.9522    3           0  \n",
       "14           98.7583    3           0  \n",
       "22           95.7083    3           0  \n",
       "25           72.2260    3           0  \n",
       "31           84.4607    3           0  \n",
       "34          114.9198    3           0  \n",
       "39           81.1368    3           0  \n",
       "46           77.7466    3           0  \n",
       "49           86.4208    3           0  \n",
       "52          109.2558    3           0  \n",
       "57          125.4359    3           0  \n",
       "62           84.2558    3           0  \n",
       "65          108.1611    3           0  \n",
       "70           97.9356    3           0  \n",
       "75           98.0320    3           0  \n",
       "78           98.5452    3           0  \n",
       "81           96.4942    3           0  \n",
       "84          135.0761    3           0  \n",
       "91           79.1020    3           0  \n",
       "96          116.3566    3           0  \n",
       "99           91.4790    3           0  \n",
       "104         130.6375    3           0  \n",
       "108         108.2456    3           0  \n",
       "111         124.4484    3           0  \n",
       "114         112.2768    3           0  \n",
       "\n",
       "[26 rows x 31 columns]"
      ]
     },
     "execution_count": 138,
     "metadata": {},
     "output_type": "execute_result"
    }
   ],
   "source": [
    "new_database.loc[\n",
    "    (new_database['ses']==3) &\n",
    "    (new_database['level_MOCA']==0)\n",
    "]"
   ]
  },
  {
   "cell_type": "markdown",
   "id": "44bcf553",
   "metadata": {},
   "source": [
    "For healthy people, i.e level 0, focusing on ses_3:"
   ]
  },
  {
   "cell_type": "code",
   "execution_count": 152,
   "id": "ff1870ce",
   "metadata": {},
   "outputs": [
    {
     "data": {
      "image/png": "[encoded data removed]",
      "text/plain": [
       "<Figure size 1440x576 with 1 Axes>"
      ]
     },
     "metadata": {
      "needs_background": "light"
     },
     "output_type": "display_data"
    }
   ],
   "source": [
    "new_database.loc[\n",
    "    (new_database['ses']==3) &\n",
    "    (new_database['level_MOCA']==0)\n",
    "].groupby(by=['AGE']).mean().plot(use_index=True, y=new_database.columns[17:-1])\n",
    "plt.title('Volume evolution for healthy people')\n",
    "plt.show()"
   ]
  },
  {
   "cell_type": "markdown",
   "id": "9ceb0b7e",
   "metadata": {},
   "source": [
    "For sick people, i.e level 0, focusing on ses_3:"
   ]
  },
  {
   "cell_type": "code",
   "execution_count": 151,
   "id": "d1b7f16b",
   "metadata": {},
   "outputs": [
    {
     "data": {
      "image/png": "[encoded data removed]",
      "text/plain": [
       "<Figure size 1440x576 with 1 Axes>"
      ]
     },
     "metadata": {
      "needs_background": "light"
     },
     "output_type": "display_data"
    }
   ],
   "source": [
    "new_database.loc[\n",
    "    (new_database['ses']==2) &\n",
    "    (new_database['level_MOCA']>=1)\n",
    "].groupby(by=['AGE']).mean().plot(use_index=True, y=new_database.columns[17:-1])\n",
    "plt.title('Volume evolution for sick people')\n",
    "plt.show()"
   ]
  },
  {
   "cell_type": "markdown",
   "id": "048a7f37",
   "metadata": {},
   "source": [
    "#### Distinguishing men and women"
   ]
  },
  {
   "cell_type": "code",
   "execution_count": 221,
   "id": "a5a7c88c",
   "metadata": {},
   "outputs": [],
   "source": [
    "zone = [\n",
    "    'Left-Nucleus-Accumbens', 'Right-Nucleus-Accumbens', 'Left-HypoThal-noMB', \n",
    "    'Right-HypoThal-noMB', 'Left-Fornix', 'Right-Fornix', \n",
    "    'Left-MammillaryBody', 'Right-MammillaryBody', 'Left-Basal-Forebrain', \n",
    "    'Right-Basal-Forebrain', 'Left-SeptalNuc', 'Right-SeptalNuc'\n",
    "]"
   ]
  },
  {
   "cell_type": "markdown",
   "id": "5b72df3b",
   "metadata": {},
   "source": [
    "Men analysis for a given computed mean brain zone."
   ]
  },
  {
   "cell_type": "code",
   "execution_count": 254,
   "id": "97cf5173",
   "metadata": {},
   "outputs": [
    {
     "name": "stderr",
     "output_type": "stream",
     "text": [
      "/var/folders/x8/l4gyx97n3x1g2z5lr7ntrv740000gn/T/ipykernel_14128/632118311.py:8: SettingWithCopyWarning:\n",
      "\n",
      "\n",
      "A value is trying to be set on a copy of a slice from a DataFrame.\n",
      "Try using .loc[row_indexer,col_indexer] = value instead\n",
      "\n",
      "See the caveats in the documentation: https://pandas.pydata.org/pandas-docs/stable/user_guide/indexing.html#returning-a-view-versus-a-copy\n",
      "\n",
      "/var/folders/x8/l4gyx97n3x1g2z5lr7ntrv740000gn/T/ipykernel_14128/632118311.py:16: SettingWithCopyWarning:\n",
      "\n",
      "\n",
      "A value is trying to be set on a copy of a slice from a DataFrame.\n",
      "Try using .loc[row_indexer,col_indexer] = value instead\n",
      "\n",
      "See the caveats in the documentation: https://pandas.pydata.org/pandas-docs/stable/user_guide/indexing.html#returning-a-view-versus-a-copy\n",
      "\n"
     ]
    },
    {
     "data": {
      "image/png": "[encoded data removed]",
      "text/plain": [
       "<Figure size 1440x576 with 1 Axes>"
      ]
     },
     "metadata": {
      "needs_background": "light"
     },
     "output_type": "display_data"
    }
   ],
   "source": [
    "genre = 'M'\n",
    "\n",
    "sick = new_database.loc[\n",
    "    (new_database['GENRE']==genre) &\n",
    "    (new_database['ses']==3) &\n",
    "    (new_database['level_MOCA']==0)\n",
    "]\n",
    "sick['mean_zone'] = sick.loc[:, zone].copy().mean(axis=1).values\n",
    "sick = sick.groupby(by=['AGE']).mean()\n",
    "\n",
    "healthy = new_database.loc[\n",
    "    (new_database['GENRE']==genre) &\n",
    "    (new_database['ses']==3) &\n",
    "    (new_database['level_MOCA']>0)\n",
    "]\n",
    "healthy['mean_zone'] = healthy.loc[:, zone].copy().mean(axis=1).values\n",
    "healthy = healthy.groupby(by=['AGE']).mean()\n",
    "\n",
    "index = sick.index.union(healthy.index)\n",
    "healthy = healthy.reindex(index, method='nearest')\n",
    "sick = sick.reindex(index, method='nearest')\n",
    "\n",
    "plt.plot(index, healthy['mean_zone'], label='Healthy')\n",
    "plt.plot(index, sick['mean_zone'], label='sick')\n",
    "plt.legend()\n",
    "\n",
    "plt.title('Mean volume evolution for men')\n",
    "plt.show()"
   ]
  },
  {
   "cell_type": "code",
   "execution_count": 252,
   "id": "59164302",
   "metadata": {},
   "outputs": [
    {
     "name": "stderr",
     "output_type": "stream",
     "text": [
      "/var/folders/x8/l4gyx97n3x1g2z5lr7ntrv740000gn/T/ipykernel_14128/1517945345.py:8: SettingWithCopyWarning:\n",
      "\n",
      "\n",
      "A value is trying to be set on a copy of a slice from a DataFrame.\n",
      "Try using .loc[row_indexer,col_indexer] = value instead\n",
      "\n",
      "See the caveats in the documentation: https://pandas.pydata.org/pandas-docs/stable/user_guide/indexing.html#returning-a-view-versus-a-copy\n",
      "\n"
     ]
    },
    {
     "data": {
      "image/png": "[encoded data removed]",
      "text/plain": [
       "<Figure size 1440x576 with 1 Axes>"
      ]
     },
     "metadata": {
      "needs_background": "light"
     },
     "output_type": "display_data"
    }
   ],
   "source": [
    "genre = 'F'\n",
    "\n",
    "sick = new_database.loc[\n",
    "    (new_database['GENRE']==genre) &\n",
    "    (new_database['ses']==3) &\n",
    "    (new_database['level_MOCA']==0)\n",
    "]\n",
    "sick['mean_zone'] = sick.loc[:, zone].copy().mean(axis=1).values\n",
    "sick = sick.groupby(by=['AGE']).mean()\n",
    "\n",
    "healthy = new_database.loc[\n",
    "    (new_database['GENRE']==genre) &\n",
    "    (new_database['ses']==3) &\n",
    "    (new_database['level_MOCA']>0)\n",
    "]\n",
    "healthy['mean_zone'] = healthy.loc[:, zone].copy().mean(axis=1).values\n",
    "healthy = healthy.groupby(by=['AGE']).mean()\n",
    "\n",
    "index = sick.index.union(healthy.index)\n",
    "healthy = healthy.reindex(index, method='nearest')\n",
    "sick = sick.reindex(index, method='nearest')\n",
    "\n",
    "plt.plot(index, healthy['mean_zone'], label='Healthy')\n",
    "plt.plot(index, sick['mean_zone'], label='sick')\n",
    "plt.legend()\n",
    "\n",
    "plt.title('Mean volume evolution for women')\n",
    "plt.show()"
   ]
  },
  {
   "cell_type": "code",
   "execution_count": null,
   "id": "c02c484d",
   "metadata": {},
   "outputs": [],
   "source": []
  }
 ],
 "metadata": {
  "kernelspec": {
   "display_name": "Python 3 (ipykernel)",
   "language": "python",
   "name": "python3"
  },
  "language_info": {
   "codemirror_mode": {
    "name": "ipython",
    "version": 3
   },
   "file_extension": ".py",
   "mimetype": "text/x-python",
   "name": "python",
   "nbconvert_exporter": "python",
   "pygments_lexer": "ipython3",
   "version": "3.8.12"
  }
 },
 "nbformat": 4,
 "nbformat_minor": 5
}
